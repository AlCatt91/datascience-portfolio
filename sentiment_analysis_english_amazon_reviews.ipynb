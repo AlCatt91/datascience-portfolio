{
  "nbformat": 4,
  "nbformat_minor": 0,
  "metadata": {
    "kernelspec": {
      "language": "python",
      "display_name": "Python 3",
      "name": "python3"
    },
    "language_info": {
      "name": "python",
      "version": "3.7.10",
      "mimetype": "text/x-python",
      "codemirror_mode": {
        "name": "ipython",
        "version": 3
      },
      "pygments_lexer": "ipython3",
      "nbconvert_exporter": "python",
      "file_extension": ".py"
    },
    "colab": {
      "name": "sentiment-analysis-english-amazon-reviews.ipynb",
      "provenance": [],
      "collapsed_sections": [],
      "include_colab_link": true
    },
    "accelerator": "GPU"
  },
  "cells": [
    {
      "cell_type": "markdown",
      "metadata": {
        "id": "view-in-github",
        "colab_type": "text"
      },
      "source": [
        "<a href=\"https://colab.research.google.com/github/AlCatt91/datascience-portfolio/blob/main/sentiment_analysis_english_amazon_reviews.ipynb\" target=\"_parent\"><img src=\"https://colab.research.google.com/assets/colab-badge.svg\" alt=\"Open In Colab\"/></a>"
      ]
    },
    {
      "cell_type": "markdown",
      "metadata": {
        "id": "tvX3bU1Fe31r"
      },
      "source": [
        "# Sentiment analysis comparison: bag-of-words, LSTM and RoBERTa\n",
        "\n",
        "0. [Introduction](#0)\n",
        "\n",
        "1. [Preparation](#1)\n",
        "\n",
        "    1.1 [Packages](#1.1)\n",
        "    \n",
        "    1.2 [Data](#1.2)\n",
        "    \n",
        "2. [Bag-of-words](#2)\n",
        "\n",
        "3. [Deep Learning](#3)\n",
        "\n",
        "    3.1 [LSTM](#3.1)\n",
        "    \n",
        "    3.2 [RoBERTa](#3.2)"
      ]
    },
    {
      "cell_type": "markdown",
      "metadata": {
        "id": "VSviHEZGe31t"
      },
      "source": [
        "## 0. Introduction <a id=0></a>\n",
        "\n",
        "Sentiment analysis is a NLP task which aims to classify a text based on the sentiment it conveys, aka its *polarity* (whether it is positive, neutral or negative). A typical business-oriented application is to analyze product reviews and customer feedbacks.\n",
        "\n",
        "The dataset that we investigate contains tens of thousands of Amazon reviews, which have been labeled as positive or negative by looking at the score given by users. We show different approaches to the problem of sorting them in the correct class based on the content of the review, both using text-feature extraction and deep learning. "
      ]
    },
    {
      "cell_type": "markdown",
      "metadata": {
        "id": "ABiWQ8Nge31v"
      },
      "source": [
        "## 1. Preparation <a id=1></a>\n",
        "\n",
        "### 1.1 Packages <a id=1.1></a>"
      ]
    },
    {
      "cell_type": "code",
      "metadata": {
        "trusted": true,
        "id": "alh78veUe31v"
      },
      "source": [
        "!pip install -Uqq fastbook\n",
        "!pip install langid\n",
        "!pip install -q kaggle\n",
        "!pip install --upgrade --force-reinstall --no-deps kaggle\n",
        "!pip install git+https://github.com/ohmeow/blurr/"
      ],
      "execution_count": null,
      "outputs": []
    },
    {
      "cell_type": "code",
      "metadata": {
        "_uuid": "8f2839f25d086af736a60e9eeb907d3b93b6e0e5",
        "_cell_guid": "b1076dfc-b9ad-4769-8c92-a6c4dae69d19",
        "execution": {
          "iopub.status.busy": "2021-06-14T15:41:17.900347Z",
          "iopub.execute_input": "2021-06-14T15:41:17.900778Z",
          "iopub.status.idle": "2021-06-14T15:41:25.417747Z",
          "shell.execute_reply.started": "2021-06-14T15:41:17.900712Z",
          "shell.execute_reply": "2021-06-14T15:41:25.416593Z"
        },
        "trusted": true,
        "id": "5thF9fUCe31x"
      },
      "source": [
        "import seaborn as sns; sns.set()\n",
        "import numpy as np\n",
        "import pandas as pd\n",
        "from collections import Counter\n",
        "\n",
        "from sklearn.naive_bayes import MultinomialNB\n",
        "from sklearn.metrics import accuracy_score, classification_report, confusion_matrix, roc_curve, roc_auc_score, precision_recall_fscore_support\n",
        "from sklearn.feature_extraction.text import CountVectorizer, TfidfVectorizer\n",
        "from sklearn.feature_selection import chi2\n",
        "from sklearn.pipeline import make_pipeline\n",
        "\n",
        "import nltk\n",
        "from nltk.corpus import stopwords\n",
        "import spacy\n",
        "import langid\n",
        "\n",
        "import plotly\n",
        "import plotly.express as px\n",
        "\n",
        "import fastbook\n",
        "fastbook.setup_book()\n",
        "\n",
        "from fastai.text.all import *\n",
        "from fastbook import *\n",
        "    \n",
        "warnings.filterwarnings(action='ignore', category=UserWarning)"
      ],
      "execution_count": null,
      "outputs": []
    },
    {
      "cell_type": "markdown",
      "metadata": {
        "id": "fBq-_-R6e31y"
      },
      "source": [
        "### 1.2 Data <a id=1.2></a>"
      ]
    },
    {
      "cell_type": "code",
      "metadata": {
        "colab": {
          "base_uri": "https://localhost:8080/"
        },
        "id": "CSDPr4_TjSsF",
        "outputId": "15db8702-ec0f-4607-a61f-bd9786de98c2"
      },
      "source": [
        "!kaggle datasets download -d kritanjalijain/amazon-reviews\n",
        "!unzip amazon-reviews.zip"
      ],
      "execution_count": 7,
      "outputs": [
        {
          "output_type": "stream",
          "text": [
            "Downloading amazon-reviews.zip to /content\n",
            " 99% 1.29G/1.29G [00:30<00:00, 38.0MB/s]\n",
            "100% 1.29G/1.29G [00:30<00:00, 45.6MB/s]\n",
            "Archive:  amazon-reviews.zip\n",
            "  inflating: amazon_review_polarity_csv.tgz  \n",
            "  inflating: test.csv                \n",
            "  inflating: train.csv               \n"
          ],
          "name": "stdout"
        }
      ]
    },
    {
      "cell_type": "code",
      "metadata": {
        "execution": {
          "iopub.status.busy": "2021-06-14T15:41:32.282032Z",
          "iopub.execute_input": "2021-06-14T15:41:32.282382Z",
          "iopub.status.idle": "2021-06-14T15:42:14.018122Z",
          "shell.execute_reply.started": "2021-06-14T15:41:32.282352Z",
          "shell.execute_reply": "2021-06-14T15:42:14.016995Z"
        },
        "trusted": true,
        "id": "qMeXwqr_e31z"
      },
      "source": [
        "train_df = pd.read_csv('train.csv', header=None, names=['label', 'title', 'text'])\n",
        "test_df = pd.read_csv('test.csv', header=None, names=['label', 'title', 'text'])"
      ],
      "execution_count": 8,
      "outputs": []
    },
    {
      "cell_type": "markdown",
      "metadata": {
        "id": "4UYUSXEXe310"
      },
      "source": [
        "The two dataframes have three columns:\n",
        "\n",
        "`label` - Target variable with two categorical levels: 1 if the review is negative (1/2 stars rating); 2 if the review is positive (4/5 stars rating).\n",
        "\n",
        "`title` - Heading of the review.\n",
        "\n",
        "`text` - Body of the review.\n",
        "\n",
        "Since the original dataset is huge, for time and memory contsraints **we will restrict to a random subset of 50000 rows from `train_df` and 10000 rows from `test_df`**, which will be respectively our training and validation set. We select such subsets randomly and so that their are both perfectly balanced. We also merge the `title` and `text` features in a single `text` column."
      ]
    },
    {
      "cell_type": "code",
      "metadata": {
        "execution": {
          "iopub.status.busy": "2021-06-14T16:20:55.576782Z",
          "iopub.execute_input": "2021-06-14T16:20:55.577207Z",
          "iopub.status.idle": "2021-06-14T16:20:56.702932Z",
          "shell.execute_reply.started": "2021-06-14T16:20:55.577174Z",
          "shell.execute_reply": "2021-06-14T16:20:56.701872Z"
        },
        "trusted": true,
        "colab": {
          "base_uri": "https://localhost:8080/",
          "height": 321
        },
        "id": "RwdUXHDSe311",
        "outputId": "ef75c065-c21d-4198-8d2d-72a411700e9c"
      },
      "source": [
        "train_df['title'].fillna('', inplace=True)\n",
        "test_df['title'].fillna('', inplace=True)\n",
        "\n",
        "train_len = 50000\n",
        "test_len = 10000\n",
        "rs = 42\n",
        "\n",
        "df = pd.concat([train_df.loc[train_df['label'] == 1].sample(train_len//2, random_state=rs),\n",
        "                train_df.loc[train_df['label'] == 2].sample(train_len//2, random_state=rs),\n",
        "                test_df.loc[test_df['label'] == 1].sample(test_len//2, random_state=rs),\n",
        "                test_df.loc[test_df['label'] == 2].sample(test_len//2, random_state=rs)]).reset_index(drop=True)\n",
        "df['text'] = df['title'] + '. ' + df['text']\n",
        "df.drop('title', axis=1, inplace=True)\n",
        "df.head()"
      ],
      "execution_count": 17,
      "outputs": [
        {
          "output_type": "execute_result",
          "data": {
            "text/html": [
              "<div>\n",
              "<style scoped>\n",
              "    .dataframe tbody tr th:only-of-type {\n",
              "        vertical-align: middle;\n",
              "    }\n",
              "\n",
              "    .dataframe tbody tr th {\n",
              "        vertical-align: top;\n",
              "    }\n",
              "\n",
              "    .dataframe thead th {\n",
              "        text-align: right;\n",
              "    }\n",
              "</style>\n",
              "<table border=\"1\" class=\"dataframe\">\n",
              "  <thead>\n",
              "    <tr style=\"text-align: right;\">\n",
              "      <th></th>\n",
              "      <th>label</th>\n",
              "      <th>text</th>\n",
              "    </tr>\n",
              "  </thead>\n",
              "  <tbody>\n",
              "    <tr>\n",
              "      <th>0</th>\n",
              "      <td>1</td>\n",
              "      <td>The History of Torture and Execution. I have not yet received the book ordered even though, I paid a rather high price for it. I have been unable to get a response from the seller, and am beginning to think that they may be something \"less than reputable\".James J. EbyRATING- \"ZERO STARS\"!</td>\n",
              "    </tr>\n",
              "    <tr>\n",
              "      <th>1</th>\n",
              "      <td>1</td>\n",
              "      <td>Stainless Steel shouldn't corrode... should it?. We were really pleased when we first received and used this knife set. Its appearance was very professional, the handles very user friendly, and the edges were VERY sharp. However, after using the set and following the care directions for a few months, it became apparent that something was VERY wrong. The 3 1/4\" and 5\" blades started to show black spots and then began to corrode. Now the 3 1/4\" paring knife blade has so much decay that it can be nearly described as a serrated blade. The manufacturer offers a \"limited lifetime warranty\" so we...</td>\n",
              "    </tr>\n",
              "    <tr>\n",
              "      <th>2</th>\n",
              "      <td>1</td>\n",
              "      <td>Another Weak Sequel To A Once Promising Franchise. Hellraiser: Heatseeker is a film that I wanted to enjoy. I thought the first direct to video Hellraiser sequel was decent but this one is just patheic consdering it has Ashley Laurence in it. I would only say you see this film if you need a movie to fall asleep on.</td>\n",
              "    </tr>\n",
              "    <tr>\n",
              "      <th>3</th>\n",
              "      <td>1</td>\n",
              "      <td>Simply Awful. Contrived, trite, \"Bridget Jones's Diary\" wannabe. So glad that I borrowed this from the library and did not spend hard-earned cash. A frivolous story about a London plain Jane and her struggles to land the boy - and career - of her dreams. 291 pages of pure fluff.</td>\n",
              "    </tr>\n",
              "    <tr>\n",
              "      <th>4</th>\n",
              "      <td>1</td>\n",
              "      <td>FLASH. Jeff Beck's Flash In my opinion, was not one of his better albums.\"Gets us all in the end\" is a hard driving rocker.\"People Get Ready\" with Rod Stewart on vocals is a Classic!Take these 2 tracks out of there, and this was a new sound experimentgone south! Too much of that New Wave sound which was becoming increasinglypopular in the 80's. Just not my cup of tea.But if that sound is you Go for it! Jeff Beck is still one of the All timebest Guitarist's that ever played an ax.</td>\n",
              "    </tr>\n",
              "  </tbody>\n",
              "</table>\n",
              "</div>"
            ],
            "text/plain": [
              "   label  \\\n",
              "0      1   \n",
              "1      1   \n",
              "2      1   \n",
              "3      1   \n",
              "4      1   \n",
              "\n",
              "                                                                                                                                                                                                                                                                                                                                                                                                                                                                                                                                                                                                                      text  \n",
              "0                                                                                                                                                                                                                                                                                                                        The History of Torture and Execution. I have not yet received the book ordered even though, I paid a rather high price for it. I have been unable to get a response from the seller, and am beginning to think that they may be something \"less than reputable\".James J. EbyRATING- \"ZERO STARS\"!  \n",
              "1  Stainless Steel shouldn't corrode... should it?. We were really pleased when we first received and used this knife set. Its appearance was very professional, the handles very user friendly, and the edges were VERY sharp. However, after using the set and following the care directions for a few months, it became apparent that something was VERY wrong. The 3 1/4\" and 5\" blades started to show black spots and then began to corrode. Now the 3 1/4\" paring knife blade has so much decay that it can be nearly described as a serrated blade. The manufacturer offers a \"limited lifetime warranty\" so we...  \n",
              "2                                                                                                                                                                                                                                                                                             Another Weak Sequel To A Once Promising Franchise. Hellraiser: Heatseeker is a film that I wanted to enjoy. I thought the first direct to video Hellraiser sequel was decent but this one is just patheic consdering it has Ashley Laurence in it. I would only say you see this film if you need a movie to fall asleep on.  \n",
              "3                                                                                                                                                                                                                                                                                                                                  Simply Awful. Contrived, trite, \"Bridget Jones's Diary\" wannabe. So glad that I borrowed this from the library and did not spend hard-earned cash. A frivolous story about a London plain Jane and her struggles to land the boy - and career - of her dreams. 291 pages of pure fluff.  \n",
              "4                                                                                                                     FLASH. Jeff Beck's Flash In my opinion, was not one of his better albums.\"Gets us all in the end\" is a hard driving rocker.\"People Get Ready\" with Rod Stewart on vocals is a Classic!Take these 2 tracks out of there, and this was a new sound experimentgone south! Too much of that New Wave sound which was becoming increasinglypopular in the 80's. Just not my cup of tea.But if that sound is you Go for it! Jeff Beck is still one of the All timebest Guitarist's that ever played an ax.  "
            ]
          },
          "metadata": {
            "tags": []
          },
          "execution_count": 17
        }
      ]
    },
    {
      "cell_type": "code",
      "metadata": {
        "execution": {
          "iopub.status.busy": "2021-06-14T15:45:22.535395Z",
          "iopub.execute_input": "2021-06-14T15:45:22.535795Z",
          "iopub.status.idle": "2021-06-14T15:45:22.550480Z",
          "shell.execute_reply.started": "2021-06-14T15:45:22.535763Z",
          "shell.execute_reply": "2021-06-14T15:45:22.548831Z"
        },
        "trusted": true,
        "id": "huGF29Mae312",
        "outputId": "5f63d197-4c8c-452b-fd15-c419dc97661c"
      },
      "source": [
        "print(f'Label counts - training set:\\n{df[:train_len].label.value_counts()}')\n",
        "print(f'\\nLabel counts - validation set:\\n{df[train_len:].label.value_counts()}')"
      ],
      "execution_count": null,
      "outputs": [
        {
          "output_type": "stream",
          "text": [
            "Label counts - training set:\n",
            "2    25000\n",
            "1    25000\n",
            "Name: label, dtype: int64\n",
            "\n",
            "Label counts - validation set:\n",
            "2    5000\n",
            "1    5000\n",
            "Name: label, dtype: int64\n"
          ],
          "name": "stdout"
        }
      ]
    },
    {
      "cell_type": "markdown",
      "metadata": {
        "id": "L7e1VZFce313"
      },
      "source": [
        "## 2. Bag-of-words <a id=2></a>\n",
        "\n",
        "We first try classifying reviews using text vectorization and a **bag-of-words** model: we split the text into tokens and, for each token in the corpus, we count how many times it appears in a review. The counts for each token become the numerical features which we feed to the model. As tokens we will use not only single words, aka 1-grams, but also 2-grams and 3-grams, i.e. sequences of contiguous words of length 2 and 3 respectively."
      ]
    },
    {
      "cell_type": "code",
      "metadata": {
        "execution": {
          "iopub.status.busy": "2021-06-14T15:46:31.590346Z",
          "iopub.execute_input": "2021-06-14T15:46:31.590730Z",
          "iopub.status.idle": "2021-06-14T15:47:15.535416Z",
          "shell.execute_reply.started": "2021-06-14T15:46:31.590696Z",
          "shell.execute_reply": "2021-06-14T15:47:15.534268Z"
        },
        "trusted": true,
        "colab": {
          "base_uri": "https://localhost:8080/"
        },
        "id": "mHkKDhZoe313",
        "outputId": "24c62ded-e95e-4329-cb87-f8920f5fb51a"
      },
      "source": [
        "cv = CountVectorizer(ngram_range=(1,3))\n",
        "cv.fit(df['text'])\n",
        "print(f\"Number of n-grams in the corpus: {len(cv.vocabulary_)}\")"
      ],
      "execution_count": 10,
      "outputs": [
        {
          "output_type": "stream",
          "text": [
            "Number of n-grams in the corpus: 4212007\n"
          ],
          "name": "stdout"
        }
      ]
    },
    {
      "cell_type": "markdown",
      "metadata": {
        "id": "Hy9ZaK2Xe314"
      },
      "source": [
        "We see that our corpus contains more than four milion n-grams (for n = 1,2,3). Which are the most frequent ones?"
      ]
    },
    {
      "cell_type": "code",
      "metadata": {
        "execution": {
          "iopub.status.busy": "2021-06-14T15:47:43.304434Z",
          "iopub.execute_input": "2021-06-14T15:47:43.304792Z",
          "iopub.status.idle": "2021-06-14T15:48:23.187880Z",
          "shell.execute_reply.started": "2021-06-14T15:47:43.304761Z",
          "shell.execute_reply": "2021-06-14T15:48:23.186890Z"
        },
        "trusted": true,
        "colab": {
          "base_uri": "https://localhost:8080/",
          "height": 617
        },
        "id": "bRyuxGEZe315",
        "outputId": "305c522a-f1bf-4e21-94b5-711939e512b0"
      },
      "source": [
        "fts = cv.get_feature_names()\n",
        "freq = cv.transform(df['text'])\n",
        "gram_counts = np.array(freq.sum(0)).squeeze()\n",
        "\n",
        "gram_counts_df = pd.DataFrame({'n-gram': [fts[i] for i in gram_counts.argsort()],\n",
        "                                'count': sorted(gram_counts)})\n",
        "\n",
        "fig = px.bar(gram_counts_df[-20:], y='n-gram', x='count', title='Most frequent n-grams', orientation='h', height=600)\n",
        "fig.show()"
      ],
      "execution_count": 11,
      "outputs": [
        {
          "output_type": "display_data",
          "data": {
            "text/html": [
              "<html>\n",
              "<head><meta charset=\"utf-8\" /></head>\n",
              "<body>\n",
              "    <div>\n",
              "            <script src=\"https://cdnjs.cloudflare.com/ajax/libs/mathjax/2.7.5/MathJax.js?config=TeX-AMS-MML_SVG\"></script><script type=\"text/javascript\">if (window.MathJax) {MathJax.Hub.Config({SVG: {font: \"STIX-Web\"}});}</script>\n",
              "                <script type=\"text/javascript\">window.PlotlyConfig = {MathJaxConfig: 'local'};</script>\n",
              "        <script src=\"https://cdn.plot.ly/plotly-latest.min.js\"></script>    \n",
              "            <div id=\"f385f530-e41a-45c4-8f45-03cee4ec7224\" class=\"plotly-graph-div\" style=\"height:600px; width:100%;\"></div>\n",
              "            <script type=\"text/javascript\">\n",
              "                \n",
              "                    window.PLOTLYENV=window.PLOTLYENV || {};\n",
              "                    \n",
              "                if (document.getElementById(\"f385f530-e41a-45c4-8f45-03cee4ec7224\")) {\n",
              "                    Plotly.newPlot(\n",
              "                        'f385f530-e41a-45c4-8f45-03cee4ec7224',\n",
              "                        [{\"alignmentgroup\": \"True\", \"hoverlabel\": {\"namelength\": 0}, \"hovertemplate\": \"count=%{x}<br>n-gram=%{y}\", \"legendgroup\": \"\", \"marker\": {\"color\": \"#636efa\"}, \"name\": \"\", \"offsetgroup\": \"\", \"orientation\": \"h\", \"showlegend\": false, \"textposition\": \"auto\", \"type\": \"bar\", \"x\": [26539, 30778, 31203, 32733, 33680, 34719, 35013, 39068, 39965, 41963, 48051, 53318, 56125, 82780, 88813, 94160, 108692, 115909, 129320, 239349], \"xaxis\": \"x\", \"y\": [\"as\", \"my\", \"have\", \"book\", \"on\", \"with\", \"but\", \"not\", \"was\", \"you\", \"that\", \"for\", \"in\", \"is\", \"this\", \"of\", \"it\", \"to\", \"and\", \"the\"], \"yaxis\": \"y\"}],\n",
              "                        {\"barmode\": \"relative\", \"height\": 600, \"legend\": {\"tracegroupgap\": 0}, \"template\": {\"data\": {\"bar\": [{\"error_x\": {\"color\": \"#2a3f5f\"}, \"error_y\": {\"color\": \"#2a3f5f\"}, \"marker\": {\"line\": {\"color\": \"#E5ECF6\", \"width\": 0.5}}, \"type\": \"bar\"}], \"barpolar\": [{\"marker\": {\"line\": {\"color\": \"#E5ECF6\", \"width\": 0.5}}, \"type\": \"barpolar\"}], \"carpet\": [{\"aaxis\": {\"endlinecolor\": \"#2a3f5f\", \"gridcolor\": \"white\", \"linecolor\": \"white\", \"minorgridcolor\": \"white\", \"startlinecolor\": \"#2a3f5f\"}, \"baxis\": {\"endlinecolor\": \"#2a3f5f\", \"gridcolor\": \"white\", \"linecolor\": \"white\", \"minorgridcolor\": \"white\", \"startlinecolor\": \"#2a3f5f\"}, \"type\": \"carpet\"}], \"choropleth\": [{\"colorbar\": {\"outlinewidth\": 0, \"ticks\": \"\"}, \"type\": \"choropleth\"}], \"contour\": [{\"colorbar\": {\"outlinewidth\": 0, \"ticks\": \"\"}, \"colorscale\": [[0.0, \"#0d0887\"], [0.1111111111111111, \"#46039f\"], [0.2222222222222222, \"#7201a8\"], [0.3333333333333333, \"#9c179e\"], [0.4444444444444444, \"#bd3786\"], [0.5555555555555556, \"#d8576b\"], [0.6666666666666666, \"#ed7953\"], [0.7777777777777778, \"#fb9f3a\"], [0.8888888888888888, \"#fdca26\"], [1.0, \"#f0f921\"]], \"type\": \"contour\"}], \"contourcarpet\": [{\"colorbar\": {\"outlinewidth\": 0, \"ticks\": \"\"}, \"type\": \"contourcarpet\"}], \"heatmap\": [{\"colorbar\": {\"outlinewidth\": 0, \"ticks\": \"\"}, \"colorscale\": [[0.0, \"#0d0887\"], [0.1111111111111111, \"#46039f\"], [0.2222222222222222, \"#7201a8\"], [0.3333333333333333, \"#9c179e\"], [0.4444444444444444, \"#bd3786\"], [0.5555555555555556, \"#d8576b\"], [0.6666666666666666, \"#ed7953\"], [0.7777777777777778, \"#fb9f3a\"], [0.8888888888888888, \"#fdca26\"], [1.0, \"#f0f921\"]], \"type\": \"heatmap\"}], \"heatmapgl\": [{\"colorbar\": {\"outlinewidth\": 0, \"ticks\": \"\"}, \"colorscale\": [[0.0, \"#0d0887\"], [0.1111111111111111, \"#46039f\"], [0.2222222222222222, \"#7201a8\"], [0.3333333333333333, \"#9c179e\"], [0.4444444444444444, \"#bd3786\"], [0.5555555555555556, \"#d8576b\"], [0.6666666666666666, \"#ed7953\"], [0.7777777777777778, \"#fb9f3a\"], [0.8888888888888888, \"#fdca26\"], [1.0, \"#f0f921\"]], \"type\": \"heatmapgl\"}], \"histogram\": [{\"marker\": {\"colorbar\": {\"outlinewidth\": 0, \"ticks\": \"\"}}, \"type\": \"histogram\"}], \"histogram2d\": [{\"colorbar\": {\"outlinewidth\": 0, \"ticks\": \"\"}, \"colorscale\": [[0.0, \"#0d0887\"], [0.1111111111111111, \"#46039f\"], [0.2222222222222222, \"#7201a8\"], [0.3333333333333333, \"#9c179e\"], [0.4444444444444444, \"#bd3786\"], [0.5555555555555556, \"#d8576b\"], [0.6666666666666666, \"#ed7953\"], [0.7777777777777778, \"#fb9f3a\"], [0.8888888888888888, \"#fdca26\"], [1.0, \"#f0f921\"]], \"type\": \"histogram2d\"}], \"histogram2dcontour\": [{\"colorbar\": {\"outlinewidth\": 0, \"ticks\": \"\"}, \"colorscale\": [[0.0, \"#0d0887\"], [0.1111111111111111, \"#46039f\"], [0.2222222222222222, \"#7201a8\"], [0.3333333333333333, \"#9c179e\"], [0.4444444444444444, \"#bd3786\"], [0.5555555555555556, \"#d8576b\"], [0.6666666666666666, \"#ed7953\"], [0.7777777777777778, \"#fb9f3a\"], [0.8888888888888888, \"#fdca26\"], [1.0, \"#f0f921\"]], \"type\": \"histogram2dcontour\"}], \"mesh3d\": [{\"colorbar\": {\"outlinewidth\": 0, \"ticks\": \"\"}, \"type\": \"mesh3d\"}], \"parcoords\": [{\"line\": {\"colorbar\": {\"outlinewidth\": 0, \"ticks\": \"\"}}, \"type\": \"parcoords\"}], \"pie\": [{\"automargin\": true, \"type\": \"pie\"}], \"scatter\": [{\"marker\": {\"colorbar\": {\"outlinewidth\": 0, \"ticks\": \"\"}}, \"type\": \"scatter\"}], \"scatter3d\": [{\"line\": {\"colorbar\": {\"outlinewidth\": 0, \"ticks\": \"\"}}, \"marker\": {\"colorbar\": {\"outlinewidth\": 0, \"ticks\": \"\"}}, \"type\": \"scatter3d\"}], \"scattercarpet\": [{\"marker\": {\"colorbar\": {\"outlinewidth\": 0, \"ticks\": \"\"}}, \"type\": \"scattercarpet\"}], \"scattergeo\": [{\"marker\": {\"colorbar\": {\"outlinewidth\": 0, \"ticks\": \"\"}}, \"type\": \"scattergeo\"}], \"scattergl\": [{\"marker\": {\"colorbar\": {\"outlinewidth\": 0, \"ticks\": \"\"}}, \"type\": \"scattergl\"}], \"scattermapbox\": [{\"marker\": {\"colorbar\": {\"outlinewidth\": 0, \"ticks\": \"\"}}, \"type\": \"scattermapbox\"}], \"scatterpolar\": [{\"marker\": {\"colorbar\": {\"outlinewidth\": 0, \"ticks\": \"\"}}, \"type\": \"scatterpolar\"}], \"scatterpolargl\": [{\"marker\": {\"colorbar\": {\"outlinewidth\": 0, \"ticks\": \"\"}}, \"type\": \"scatterpolargl\"}], \"scatterternary\": [{\"marker\": {\"colorbar\": {\"outlinewidth\": 0, \"ticks\": \"\"}}, \"type\": \"scatterternary\"}], \"surface\": [{\"colorbar\": {\"outlinewidth\": 0, \"ticks\": \"\"}, \"colorscale\": [[0.0, \"#0d0887\"], [0.1111111111111111, \"#46039f\"], [0.2222222222222222, \"#7201a8\"], [0.3333333333333333, \"#9c179e\"], [0.4444444444444444, \"#bd3786\"], [0.5555555555555556, \"#d8576b\"], [0.6666666666666666, \"#ed7953\"], [0.7777777777777778, \"#fb9f3a\"], [0.8888888888888888, \"#fdca26\"], [1.0, \"#f0f921\"]], \"type\": \"surface\"}], \"table\": [{\"cells\": {\"fill\": {\"color\": \"#EBF0F8\"}, \"line\": {\"color\": \"white\"}}, \"header\": {\"fill\": {\"color\": \"#C8D4E3\"}, \"line\": {\"color\": \"white\"}}, \"type\": \"table\"}]}, \"layout\": {\"annotationdefaults\": {\"arrowcolor\": \"#2a3f5f\", \"arrowhead\": 0, \"arrowwidth\": 1}, \"coloraxis\": {\"colorbar\": {\"outlinewidth\": 0, \"ticks\": \"\"}}, \"colorscale\": {\"diverging\": [[0, \"#8e0152\"], [0.1, \"#c51b7d\"], [0.2, \"#de77ae\"], [0.3, \"#f1b6da\"], [0.4, \"#fde0ef\"], [0.5, \"#f7f7f7\"], [0.6, \"#e6f5d0\"], [0.7, \"#b8e186\"], [0.8, \"#7fbc41\"], [0.9, \"#4d9221\"], [1, \"#276419\"]], \"sequential\": [[0.0, \"#0d0887\"], [0.1111111111111111, \"#46039f\"], [0.2222222222222222, \"#7201a8\"], [0.3333333333333333, \"#9c179e\"], [0.4444444444444444, \"#bd3786\"], [0.5555555555555556, \"#d8576b\"], [0.6666666666666666, \"#ed7953\"], [0.7777777777777778, \"#fb9f3a\"], [0.8888888888888888, \"#fdca26\"], [1.0, \"#f0f921\"]], \"sequentialminus\": [[0.0, \"#0d0887\"], [0.1111111111111111, \"#46039f\"], [0.2222222222222222, \"#7201a8\"], [0.3333333333333333, \"#9c179e\"], [0.4444444444444444, \"#bd3786\"], [0.5555555555555556, \"#d8576b\"], [0.6666666666666666, \"#ed7953\"], [0.7777777777777778, \"#fb9f3a\"], [0.8888888888888888, \"#fdca26\"], [1.0, \"#f0f921\"]]}, \"colorway\": [\"#636efa\", \"#EF553B\", \"#00cc96\", \"#ab63fa\", \"#FFA15A\", \"#19d3f3\", \"#FF6692\", \"#B6E880\", \"#FF97FF\", \"#FECB52\"], \"font\": {\"color\": \"#2a3f5f\"}, \"geo\": {\"bgcolor\": \"white\", \"lakecolor\": \"white\", \"landcolor\": \"#E5ECF6\", \"showlakes\": true, \"showland\": true, \"subunitcolor\": \"white\"}, \"hoverlabel\": {\"align\": \"left\"}, \"hovermode\": \"closest\", \"mapbox\": {\"style\": \"light\"}, \"paper_bgcolor\": \"white\", \"plot_bgcolor\": \"#E5ECF6\", \"polar\": {\"angularaxis\": {\"gridcolor\": \"white\", \"linecolor\": \"white\", \"ticks\": \"\"}, \"bgcolor\": \"#E5ECF6\", \"radialaxis\": {\"gridcolor\": \"white\", \"linecolor\": \"white\", \"ticks\": \"\"}}, \"scene\": {\"xaxis\": {\"backgroundcolor\": \"#E5ECF6\", \"gridcolor\": \"white\", \"gridwidth\": 2, \"linecolor\": \"white\", \"showbackground\": true, \"ticks\": \"\", \"zerolinecolor\": \"white\"}, \"yaxis\": {\"backgroundcolor\": \"#E5ECF6\", \"gridcolor\": \"white\", \"gridwidth\": 2, \"linecolor\": \"white\", \"showbackground\": true, \"ticks\": \"\", \"zerolinecolor\": \"white\"}, \"zaxis\": {\"backgroundcolor\": \"#E5ECF6\", \"gridcolor\": \"white\", \"gridwidth\": 2, \"linecolor\": \"white\", \"showbackground\": true, \"ticks\": \"\", \"zerolinecolor\": \"white\"}}, \"shapedefaults\": {\"line\": {\"color\": \"#2a3f5f\"}}, \"ternary\": {\"aaxis\": {\"gridcolor\": \"white\", \"linecolor\": \"white\", \"ticks\": \"\"}, \"baxis\": {\"gridcolor\": \"white\", \"linecolor\": \"white\", \"ticks\": \"\"}, \"bgcolor\": \"#E5ECF6\", \"caxis\": {\"gridcolor\": \"white\", \"linecolor\": \"white\", \"ticks\": \"\"}}, \"title\": {\"x\": 0.05}, \"xaxis\": {\"automargin\": true, \"gridcolor\": \"white\", \"linecolor\": \"white\", \"ticks\": \"\", \"title\": {\"standoff\": 15}, \"zerolinecolor\": \"white\", \"zerolinewidth\": 2}, \"yaxis\": {\"automargin\": true, \"gridcolor\": \"white\", \"linecolor\": \"white\", \"ticks\": \"\", \"title\": {\"standoff\": 15}, \"zerolinecolor\": \"white\", \"zerolinewidth\": 2}}}, \"title\": {\"text\": \"Most frequent n-grams\"}, \"xaxis\": {\"anchor\": \"y\", \"domain\": [0.0, 1.0], \"title\": {\"text\": \"count\"}}, \"yaxis\": {\"anchor\": \"x\", \"domain\": [0.0, 1.0], \"title\": {\"text\": \"n-gram\"}}},\n",
              "                        {\"responsive\": true}\n",
              "                    ).then(function(){\n",
              "                            \n",
              "var gd = document.getElementById('f385f530-e41a-45c4-8f45-03cee4ec7224');\n",
              "var x = new MutationObserver(function (mutations, observer) {{\n",
              "        var display = window.getComputedStyle(gd).display;\n",
              "        if (!display || display === 'none') {{\n",
              "            console.log([gd, 'removed!']);\n",
              "            Plotly.purge(gd);\n",
              "            observer.disconnect();\n",
              "        }}\n",
              "}});\n",
              "\n",
              "// Listen for the removal of the full notebook cells\n",
              "var notebookContainer = gd.closest('#notebook-container');\n",
              "if (notebookContainer) {{\n",
              "    x.observe(notebookContainer, {childList: true});\n",
              "}}\n",
              "\n",
              "// Listen for the clearing of the current output cell\n",
              "var outputEl = gd.closest('.output');\n",
              "if (outputEl) {{\n",
              "    x.observe(outputEl, {childList: true});\n",
              "}}\n",
              "\n",
              "                        })\n",
              "                };\n",
              "                \n",
              "            </script>\n",
              "        </div>\n",
              "</body>\n",
              "</html>"
            ]
          },
          "metadata": {
            "tags": []
          }
        }
      ]
    },
    {
      "cell_type": "markdown",
      "metadata": {
        "id": "HztDdgv3e316"
      },
      "source": [
        "The 1-grams which appears more frequently in the corpus are unlikely to be particularly meaningful for the classification task at hand. This problem is usually tackled in two ways: we can either remove **stopwords** (i.e. the most frequent words in the language the review is written in, such as pronouns and conjunctions), or normalize the frequency counts based on how often each n-gram appears across the documents in the corpus, e.g. by using **tf-idf** vectorization, in order to penalize tokens that are common in both positive and negative reviews. \n",
        "\n",
        "Before trying any of these approaches, let us consider as baseline a simple multinomial naive Bayes model which uses the n-gram frequencies (n=1,2,3) from count vectorization as features."
      ]
    },
    {
      "cell_type": "code",
      "metadata": {
        "execution": {
          "iopub.status.busy": "2021-06-14T16:21:20.629123Z",
          "iopub.execute_input": "2021-06-14T16:21:20.629553Z",
          "iopub.status.idle": "2021-06-14T16:22:02.182332Z",
          "shell.execute_reply.started": "2021-06-14T16:21:20.629520Z",
          "shell.execute_reply": "2021-06-14T16:22:02.181201Z"
        },
        "trusted": true,
        "colab": {
          "base_uri": "https://localhost:8080/",
          "height": 503
        },
        "id": "SRq5Hy3Ze317",
        "outputId": "227261c1-ccfe-4659-c004-cda3547d22ce"
      },
      "source": [
        "cv_model = make_pipeline(CountVectorizer(ngram_range=(1,3)), MultinomialNB())\n",
        "\n",
        "x_train, y_train = df['text'][:train_len], df['label'][:train_len].values.reshape(-1,1)\n",
        "x_test, y_test = df['text'][train_len:], df['label'][train_len:].values.reshape(-1,1)\n",
        "\n",
        "cv_model.fit(x_train, y_train)\n",
        "preds = cv_model.predict(x_test)\n",
        "\n",
        "print(\"Model: CountVectorizer + MultinomialNB\")\n",
        "print(f\"Number of features: {len(cv_model[0].vocabulary_)}\")\n",
        "print(\"Accuracy: {:.4f}\\n\".format(accuracy_score(y_test, preds)))\n",
        "mat = confusion_matrix(y_test, preds)\n",
        "sns.heatmap(mat, square=True, annot=True, fmt='d', cbar=False, xticklabels=cv_model.classes_, yticklabels=cv_model.classes_)\n",
        "plt.xlabel('Predicted label')\n",
        "plt.ylabel('True label')\n",
        "\n",
        "print(classification_report(y_test, preds, labels=cv_model.classes_))"
      ],
      "execution_count": 19,
      "outputs": [
        {
          "output_type": "stream",
          "text": [
            "Model: CountVectorizer + MultinomialNB\n",
            "Number of features: 3615739\n",
            "Accuracy: 0.8906\n",
            "\n",
            "              precision    recall  f1-score   support\n",
            "\n",
            "           1       0.87      0.92      0.89      5000\n",
            "           2       0.92      0.86      0.89      5000\n",
            "\n",
            "    accuracy                           0.89     10000\n",
            "   macro avg       0.89      0.89      0.89     10000\n",
            "weighted avg       0.89      0.89      0.89     10000\n",
            "\n"
          ],
          "name": "stdout"
        },
        {
          "output_type": "display_data",
          "data": {
            "image/png": "[encoded data removed]",
            "text/plain": [
              "<Figure size 432x288 with 1 Axes>"
            ]
          },
          "metadata": {
            "tags": []
          }
        }
      ]
    },
    {
      "cell_type": "markdown",
      "metadata": {
        "id": "YSgoPlO9e318"
      },
      "source": [
        "Let's check now how tf-idf vectorization performs."
      ]
    },
    {
      "cell_type": "code",
      "metadata": {
        "execution": {
          "iopub.status.busy": "2021-06-14T16:22:25.639301Z",
          "iopub.execute_input": "2021-06-14T16:22:25.639776Z",
          "iopub.status.idle": "2021-06-14T16:23:06.614327Z",
          "shell.execute_reply.started": "2021-06-14T16:22:25.639744Z",
          "shell.execute_reply": "2021-06-14T16:23:06.613063Z"
        },
        "trusted": true,
        "id": "UfAfEbzxe319",
        "outputId": "e0de2736-a9f3-4501-9e61-3ba0d4c50a49"
      },
      "source": [
        "tfidf_model = make_pipeline(TfidfVectorizer(ngram_range=(1,3)), MultinomialNB())\n",
        "\n",
        "tfidf_model.fit(x_train, y_train)\n",
        "preds = tfidf_model.predict(x_test)\n",
        "\n",
        "print(\"Model: TfidfVectorizer + MultinomialNB\")\n",
        "print(f\"Number of features: {len(tfidf_model[0].vocabulary_)}\")\n",
        "print(\"Accuracy: {:.4f}\\n\".format(accuracy_score(y_test, preds)))\n",
        "mat = confusion_matrix(y_test, preds)\n",
        "sns.heatmap(mat, square=True, annot=True, fmt='d', cbar=False, xticklabels=tfidf_model.classes_, yticklabels=tfidf_model.classes_)\n",
        "plt.xlabel('Predicted label')\n",
        "plt.ylabel('True label')\n",
        "\n",
        "print(classification_report(y_test, preds, labels=tfidf_model.classes_))"
      ],
      "execution_count": null,
      "outputs": [
        {
          "output_type": "stream",
          "text": [
            "Model: TfidfVectorizer + MultinomialNB\n",
            "Number of features: 3615739\n",
            "Accuracy: 0.8908\n",
            "\n",
            "              precision    recall  f1-score   support\n",
            "\n",
            "           1       0.86      0.93      0.89      5000\n",
            "           2       0.92      0.85      0.89      5000\n",
            "\n",
            "    accuracy                           0.89     10000\n",
            "   macro avg       0.89      0.89      0.89     10000\n",
            "weighted avg       0.89      0.89      0.89     10000\n",
            "\n"
          ],
          "name": "stdout"
        },
        {
          "output_type": "display_data",
          "data": {
            "text/plain": [
              "<Figure size 432x288 with 1 Axes>"
            ],
            "image/png": "[encoded data removed]"
          },
          "metadata": {
            "tags": []
          }
        }
      ]
    },
    {
      "cell_type": "markdown",
      "metadata": {
        "id": "8aa1lG1fe319"
      },
      "source": [
        "The two types of vectorization give very similar results. We can try removing stopwords before vectorizing: in order to do so, we need to understand which languages are present in the corpus of reviews. The most frequent n-grams all come from english, but there might also be reviews written in other languages. We use the `langid` library to predict the language of each review in our dataset."
      ]
    },
    {
      "cell_type": "code",
      "metadata": {
        "execution": {
          "iopub.status.busy": "2021-06-14T15:51:13.704600Z",
          "iopub.execute_input": "2021-06-14T15:51:13.705181Z",
          "iopub.status.idle": "2021-06-14T15:54:08.966482Z",
          "shell.execute_reply.started": "2021-06-14T15:51:13.705149Z",
          "shell.execute_reply": "2021-06-14T15:54:08.965153Z"
        },
        "trusted": true,
        "colab": {
          "base_uri": "https://localhost:8080/"
        },
        "id": "Ro1nfJS4e31-",
        "outputId": "444064a2-474d-446e-f2a5-bfce782413d1"
      },
      "source": [
        "langs = [langid.classify(s)[0] for s in df['text']]\n",
        "Counter(langs)"
      ],
      "execution_count": 12,
      "outputs": [
        {
          "output_type": "execute_result",
          "data": {
            "text/plain": [
              "Counter({'af': 1,\n",
              "         'an': 3,\n",
              "         'da': 2,\n",
              "         'de': 4,\n",
              "         'en': 59757,\n",
              "         'es': 131,\n",
              "         'et': 5,\n",
              "         'fi': 2,\n",
              "         'fr': 15,\n",
              "         'it': 6,\n",
              "         'ky': 1,\n",
              "         'la': 1,\n",
              "         'mt': 14,\n",
              "         'no': 34,\n",
              "         'pl': 9,\n",
              "         'pt': 7,\n",
              "         'rw': 1,\n",
              "         'se': 3,\n",
              "         'sk': 1,\n",
              "         'sv': 2,\n",
              "         'tl': 1})"
            ]
          },
          "metadata": {
            "tags": []
          },
          "execution_count": 12
        }
      ]
    },
    {
      "cell_type": "markdown",
      "metadata": {
        "id": "KbftDn7Je31-"
      },
      "source": [
        "Non-english reviews appear to be a very small minority, so we'll simply drop such samples from our dataset."
      ]
    },
    {
      "cell_type": "code",
      "metadata": {
        "execution": {
          "iopub.status.busy": "2021-06-14T16:23:23.195802Z",
          "iopub.execute_input": "2021-06-14T16:23:23.196225Z",
          "iopub.status.idle": "2021-06-14T16:23:23.231507Z",
          "shell.execute_reply.started": "2021-06-14T16:23:23.196194Z",
          "shell.execute_reply": "2021-06-14T16:23:23.229681Z"
        },
        "trusted": true,
        "colab": {
          "base_uri": "https://localhost:8080/"
        },
        "id": "FDaqBdxce31_",
        "outputId": "b0dae6e0-1d79-4cab-c8bf-ea59f0acf1ca"
      },
      "source": [
        "df = df[[l=='en' for l in langs]]\n",
        "\n",
        "x_train, y_train = df['text'][:train_len], df['label'][:train_len].values.reshape(-1,1)\n",
        "x_test, y_test = df['text'][train_len:], df['label'][train_len:].values.reshape(-1,1)\n",
        "\n",
        "print(f'Label counts - training set:\\n{df[:train_len].label.value_counts()}')\n",
        "print(f'\\nLabel counts - validation set:\\n{df[train_len:].label.value_counts()}')"
      ],
      "execution_count": 20,
      "outputs": [
        {
          "output_type": "stream",
          "text": [
            "Label counts - training set:\n",
            "1    25134\n",
            "2    24866\n",
            "Name: label, dtype: int64\n",
            "\n",
            "Label counts - validation set:\n",
            "2    4974\n",
            "1    4783\n",
            "Name: label, dtype: int64\n"
          ],
          "name": "stdout"
        }
      ]
    },
    {
      "cell_type": "markdown",
      "metadata": {
        "id": "PT24c9FIe32A"
      },
      "source": [
        "Let us now try removing english stopwords from the corpus of reviews."
      ]
    },
    {
      "cell_type": "code",
      "metadata": {
        "execution": {
          "iopub.status.busy": "2021-06-14T15:54:40.112986Z",
          "iopub.execute_input": "2021-06-14T15:54:40.113375Z",
          "iopub.status.idle": "2021-06-14T15:55:42.102959Z",
          "shell.execute_reply.started": "2021-06-14T15:54:40.113344Z",
          "shell.execute_reply": "2021-06-14T15:55:42.101867Z"
        },
        "trusted": true,
        "colab": {
          "base_uri": "https://localhost:8080/",
          "height": 667
        },
        "id": "5ApMruw6e32A",
        "outputId": "c1b7601b-7788-4a7a-8af1-d7a73f8989c7"
      },
      "source": [
        "nltk.download('stopwords')\n",
        "sw = stopwords.words('english')\n",
        "\n",
        "cv = CountVectorizer(ngram_range=(1,3), stop_words=frozenset(sw))\n",
        "cv.fit(df['text'])\n",
        "print(f\"Number of ngrams in the corpus w/o stopwords: {len(cv.vocabulary_)}\")\n",
        "\n",
        "fts = cv.get_feature_names()\n",
        "freq = cv.transform(df['text'])\n",
        "gram_counts = np.array(freq.sum(0)).squeeze()\n",
        "\n",
        "gram_counts_df = pd.DataFrame({'n-gram': [fts[i] for i in gram_counts.argsort()],\n",
        "                               'count': sorted(gram_counts)})\n",
        "\n",
        "px.bar(gram_counts_df[-20:], y='n-gram', x='count', title='Most frequent n-grams w/o stopwords',\n",
        "       orientation='h', height=600)"
      ],
      "execution_count": 14,
      "outputs": [
        {
          "output_type": "stream",
          "text": [
            "[nltk_data] Downloading package stopwords to /root/nltk_data...\n",
            "[nltk_data]   Unzipping corpora/stopwords.zip.\n",
            "Number of ngrams in the corpus w/o stopwords: 3680897\n"
          ],
          "name": "stdout"
        },
        {
          "output_type": "display_data",
          "data": {
            "text/html": [
              "<html>\n",
              "<head><meta charset=\"utf-8\" /></head>\n",
              "<body>\n",
              "    <div>\n",
              "            <script src=\"https://cdnjs.cloudflare.com/ajax/libs/mathjax/2.7.5/MathJax.js?config=TeX-AMS-MML_SVG\"></script><script type=\"text/javascript\">if (window.MathJax) {MathJax.Hub.Config({SVG: {font: \"STIX-Web\"}});}</script>\n",
              "                <script type=\"text/javascript\">window.PlotlyConfig = {MathJaxConfig: 'local'};</script>\n",
              "        <script src=\"https://cdn.plot.ly/plotly-latest.min.js\"></script>    \n",
              "            <div id=\"1100d283-f736-4f1c-bf11-642eb4b373f9\" class=\"plotly-graph-div\" style=\"height:600px; width:100%;\"></div>\n",
              "            <script type=\"text/javascript\">\n",
              "                \n",
              "                    window.PLOTLYENV=window.PLOTLYENV || {};\n",
              "                    \n",
              "                if (document.getElementById(\"1100d283-f736-4f1c-bf11-642eb4b373f9\")) {\n",
              "                    Plotly.newPlot(\n",
              "                        '1100d283-f736-4f1c-bf11-642eb4b373f9',\n",
              "                        [{\"alignmentgroup\": \"True\", \"hoverlabel\": {\"namelength\": 0}, \"hovertemplate\": \"count=%{x}<br>n-gram=%{y}\", \"legendgroup\": \"\", \"marker\": {\"color\": \"#636efa\"}, \"name\": \"\", \"offsetgroup\": \"\", \"orientation\": \"h\", \"showlegend\": false, \"textposition\": \"auto\", \"type\": \"bar\", \"x\": [6994, 7026, 7387, 7615, 7814, 8357, 8457, 8519, 9251, 9505, 10117, 11175, 11658, 11807, 14049, 17000, 17289, 17844, 22772, 32718], \"xaxis\": \"x\", \"y\": [\"best\", \"cd\", \"product\", \"buy\", \"love\", \"even\", \"first\", \"much\", \"well\", \"really\", \"movie\", \"time\", \"get\", \"read\", \"would\", \"like\", \"good\", \"great\", \"one\", \"book\"], \"yaxis\": \"y\"}],\n",
              "                        {\"barmode\": \"relative\", \"height\": 600, \"legend\": {\"tracegroupgap\": 0}, \"template\": {\"data\": {\"bar\": [{\"error_x\": {\"color\": \"#2a3f5f\"}, \"error_y\": {\"color\": \"#2a3f5f\"}, \"marker\": {\"line\": {\"color\": \"#E5ECF6\", \"width\": 0.5}}, \"type\": \"bar\"}], \"barpolar\": [{\"marker\": {\"line\": {\"color\": \"#E5ECF6\", \"width\": 0.5}}, \"type\": \"barpolar\"}], \"carpet\": [{\"aaxis\": {\"endlinecolor\": \"#2a3f5f\", \"gridcolor\": \"white\", \"linecolor\": \"white\", \"minorgridcolor\": \"white\", \"startlinecolor\": \"#2a3f5f\"}, \"baxis\": {\"endlinecolor\": \"#2a3f5f\", \"gridcolor\": \"white\", \"linecolor\": \"white\", \"minorgridcolor\": \"white\", \"startlinecolor\": \"#2a3f5f\"}, \"type\": \"carpet\"}], \"choropleth\": [{\"colorbar\": {\"outlinewidth\": 0, \"ticks\": \"\"}, \"type\": \"choropleth\"}], \"contour\": [{\"colorbar\": {\"outlinewidth\": 0, \"ticks\": \"\"}, \"colorscale\": [[0.0, \"#0d0887\"], [0.1111111111111111, \"#46039f\"], [0.2222222222222222, \"#7201a8\"], [0.3333333333333333, \"#9c179e\"], [0.4444444444444444, \"#bd3786\"], [0.5555555555555556, \"#d8576b\"], [0.6666666666666666, \"#ed7953\"], [0.7777777777777778, \"#fb9f3a\"], [0.8888888888888888, \"#fdca26\"], [1.0, \"#f0f921\"]], \"type\": \"contour\"}], \"contourcarpet\": [{\"colorbar\": {\"outlinewidth\": 0, \"ticks\": \"\"}, \"type\": \"contourcarpet\"}], \"heatmap\": [{\"colorbar\": {\"outlinewidth\": 0, \"ticks\": \"\"}, \"colorscale\": [[0.0, \"#0d0887\"], [0.1111111111111111, \"#46039f\"], [0.2222222222222222, \"#7201a8\"], [0.3333333333333333, \"#9c179e\"], [0.4444444444444444, \"#bd3786\"], [0.5555555555555556, \"#d8576b\"], [0.6666666666666666, \"#ed7953\"], [0.7777777777777778, \"#fb9f3a\"], [0.8888888888888888, \"#fdca26\"], [1.0, \"#f0f921\"]], \"type\": \"heatmap\"}], \"heatmapgl\": [{\"colorbar\": {\"outlinewidth\": 0, \"ticks\": \"\"}, \"colorscale\": [[0.0, \"#0d0887\"], [0.1111111111111111, \"#46039f\"], [0.2222222222222222, \"#7201a8\"], [0.3333333333333333, \"#9c179e\"], [0.4444444444444444, \"#bd3786\"], [0.5555555555555556, \"#d8576b\"], [0.6666666666666666, \"#ed7953\"], [0.7777777777777778, \"#fb9f3a\"], [0.8888888888888888, \"#fdca26\"], [1.0, \"#f0f921\"]], \"type\": \"heatmapgl\"}], \"histogram\": [{\"marker\": {\"colorbar\": {\"outlinewidth\": 0, \"ticks\": \"\"}}, \"type\": \"histogram\"}], \"histogram2d\": [{\"colorbar\": {\"outlinewidth\": 0, \"ticks\": \"\"}, \"colorscale\": [[0.0, \"#0d0887\"], [0.1111111111111111, \"#46039f\"], [0.2222222222222222, \"#7201a8\"], [0.3333333333333333, \"#9c179e\"], [0.4444444444444444, \"#bd3786\"], [0.5555555555555556, \"#d8576b\"], [0.6666666666666666, \"#ed7953\"], [0.7777777777777778, \"#fb9f3a\"], [0.8888888888888888, \"#fdca26\"], [1.0, \"#f0f921\"]], \"type\": \"histogram2d\"}], \"histogram2dcontour\": [{\"colorbar\": {\"outlinewidth\": 0, \"ticks\": \"\"}, \"colorscale\": [[0.0, \"#0d0887\"], [0.1111111111111111, \"#46039f\"], [0.2222222222222222, \"#7201a8\"], [0.3333333333333333, \"#9c179e\"], [0.4444444444444444, \"#bd3786\"], [0.5555555555555556, \"#d8576b\"], [0.6666666666666666, \"#ed7953\"], [0.7777777777777778, \"#fb9f3a\"], [0.8888888888888888, \"#fdca26\"], [1.0, \"#f0f921\"]], \"type\": \"histogram2dcontour\"}], \"mesh3d\": [{\"colorbar\": {\"outlinewidth\": 0, \"ticks\": \"\"}, \"type\": \"mesh3d\"}], \"parcoords\": [{\"line\": {\"colorbar\": {\"outlinewidth\": 0, \"ticks\": \"\"}}, \"type\": \"parcoords\"}], \"pie\": [{\"automargin\": true, \"type\": \"pie\"}], \"scatter\": [{\"marker\": {\"colorbar\": {\"outlinewidth\": 0, \"ticks\": \"\"}}, \"type\": \"scatter\"}], \"scatter3d\": [{\"line\": {\"colorbar\": {\"outlinewidth\": 0, \"ticks\": \"\"}}, \"marker\": {\"colorbar\": {\"outlinewidth\": 0, \"ticks\": \"\"}}, \"type\": \"scatter3d\"}], \"scattercarpet\": [{\"marker\": {\"colorbar\": {\"outlinewidth\": 0, \"ticks\": \"\"}}, \"type\": \"scattercarpet\"}], \"scattergeo\": [{\"marker\": {\"colorbar\": {\"outlinewidth\": 0, \"ticks\": \"\"}}, \"type\": \"scattergeo\"}], \"scattergl\": [{\"marker\": {\"colorbar\": {\"outlinewidth\": 0, \"ticks\": \"\"}}, \"type\": \"scattergl\"}], \"scattermapbox\": [{\"marker\": {\"colorbar\": {\"outlinewidth\": 0, \"ticks\": \"\"}}, \"type\": \"scattermapbox\"}], \"scatterpolar\": [{\"marker\": {\"colorbar\": {\"outlinewidth\": 0, \"ticks\": \"\"}}, \"type\": \"scatterpolar\"}], \"scatterpolargl\": [{\"marker\": {\"colorbar\": {\"outlinewidth\": 0, \"ticks\": \"\"}}, \"type\": \"scatterpolargl\"}], \"scatterternary\": [{\"marker\": {\"colorbar\": {\"outlinewidth\": 0, \"ticks\": \"\"}}, \"type\": \"scatterternary\"}], \"surface\": [{\"colorbar\": {\"outlinewidth\": 0, \"ticks\": \"\"}, \"colorscale\": [[0.0, \"#0d0887\"], [0.1111111111111111, \"#46039f\"], [0.2222222222222222, \"#7201a8\"], [0.3333333333333333, \"#9c179e\"], [0.4444444444444444, \"#bd3786\"], [0.5555555555555556, \"#d8576b\"], [0.6666666666666666, \"#ed7953\"], [0.7777777777777778, \"#fb9f3a\"], [0.8888888888888888, \"#fdca26\"], [1.0, \"#f0f921\"]], \"type\": \"surface\"}], \"table\": [{\"cells\": {\"fill\": {\"color\": \"#EBF0F8\"}, \"line\": {\"color\": \"white\"}}, \"header\": {\"fill\": {\"color\": \"#C8D4E3\"}, \"line\": {\"color\": \"white\"}}, \"type\": \"table\"}]}, \"layout\": {\"annotationdefaults\": {\"arrowcolor\": \"#2a3f5f\", \"arrowhead\": 0, \"arrowwidth\": 1}, \"coloraxis\": {\"colorbar\": {\"outlinewidth\": 0, \"ticks\": \"\"}}, \"colorscale\": {\"diverging\": [[0, \"#8e0152\"], [0.1, \"#c51b7d\"], [0.2, \"#de77ae\"], [0.3, \"#f1b6da\"], [0.4, \"#fde0ef\"], [0.5, \"#f7f7f7\"], [0.6, \"#e6f5d0\"], [0.7, \"#b8e186\"], [0.8, \"#7fbc41\"], [0.9, \"#4d9221\"], [1, \"#276419\"]], \"sequential\": [[0.0, \"#0d0887\"], [0.1111111111111111, \"#46039f\"], [0.2222222222222222, \"#7201a8\"], [0.3333333333333333, \"#9c179e\"], [0.4444444444444444, \"#bd3786\"], [0.5555555555555556, \"#d8576b\"], [0.6666666666666666, \"#ed7953\"], [0.7777777777777778, \"#fb9f3a\"], [0.8888888888888888, \"#fdca26\"], [1.0, \"#f0f921\"]], \"sequentialminus\": [[0.0, \"#0d0887\"], [0.1111111111111111, \"#46039f\"], [0.2222222222222222, \"#7201a8\"], [0.3333333333333333, \"#9c179e\"], [0.4444444444444444, \"#bd3786\"], [0.5555555555555556, \"#d8576b\"], [0.6666666666666666, \"#ed7953\"], [0.7777777777777778, \"#fb9f3a\"], [0.8888888888888888, \"#fdca26\"], [1.0, \"#f0f921\"]]}, \"colorway\": [\"#636efa\", \"#EF553B\", \"#00cc96\", \"#ab63fa\", \"#FFA15A\", \"#19d3f3\", \"#FF6692\", \"#B6E880\", \"#FF97FF\", \"#FECB52\"], \"font\": {\"color\": \"#2a3f5f\"}, \"geo\": {\"bgcolor\": \"white\", \"lakecolor\": \"white\", \"landcolor\": \"#E5ECF6\", \"showlakes\": true, \"showland\": true, \"subunitcolor\": \"white\"}, \"hoverlabel\": {\"align\": \"left\"}, \"hovermode\": \"closest\", \"mapbox\": {\"style\": \"light\"}, \"paper_bgcolor\": \"white\", \"plot_bgcolor\": \"#E5ECF6\", \"polar\": {\"angularaxis\": {\"gridcolor\": \"white\", \"linecolor\": \"white\", \"ticks\": \"\"}, \"bgcolor\": \"#E5ECF6\", \"radialaxis\": {\"gridcolor\": \"white\", \"linecolor\": \"white\", \"ticks\": \"\"}}, \"scene\": {\"xaxis\": {\"backgroundcolor\": \"#E5ECF6\", \"gridcolor\": \"white\", \"gridwidth\": 2, \"linecolor\": \"white\", \"showbackground\": true, \"ticks\": \"\", \"zerolinecolor\": \"white\"}, \"yaxis\": {\"backgroundcolor\": \"#E5ECF6\", \"gridcolor\": \"white\", \"gridwidth\": 2, \"linecolor\": \"white\", \"showbackground\": true, \"ticks\": \"\", \"zerolinecolor\": \"white\"}, \"zaxis\": {\"backgroundcolor\": \"#E5ECF6\", \"gridcolor\": \"white\", \"gridwidth\": 2, \"linecolor\": \"white\", \"showbackground\": true, \"ticks\": \"\", \"zerolinecolor\": \"white\"}}, \"shapedefaults\": {\"line\": {\"color\": \"#2a3f5f\"}}, \"ternary\": {\"aaxis\": {\"gridcolor\": \"white\", \"linecolor\": \"white\", \"ticks\": \"\"}, \"baxis\": {\"gridcolor\": \"white\", \"linecolor\": \"white\", \"ticks\": \"\"}, \"bgcolor\": \"#E5ECF6\", \"caxis\": {\"gridcolor\": \"white\", \"linecolor\": \"white\", \"ticks\": \"\"}}, \"title\": {\"x\": 0.05}, \"xaxis\": {\"automargin\": true, \"gridcolor\": \"white\", \"linecolor\": \"white\", \"ticks\": \"\", \"title\": {\"standoff\": 15}, \"zerolinecolor\": \"white\", \"zerolinewidth\": 2}, \"yaxis\": {\"automargin\": true, \"gridcolor\": \"white\", \"linecolor\": \"white\", \"ticks\": \"\", \"title\": {\"standoff\": 15}, \"zerolinecolor\": \"white\", \"zerolinewidth\": 2}}}, \"title\": {\"text\": \"Most frequent n-grams w/o stopwords\"}, \"xaxis\": {\"anchor\": \"y\", \"domain\": [0.0, 1.0], \"title\": {\"text\": \"count\"}}, \"yaxis\": {\"anchor\": \"x\", \"domain\": [0.0, 1.0], \"title\": {\"text\": \"n-gram\"}}},\n",
              "                        {\"responsive\": true}\n",
              "                    ).then(function(){\n",
              "                            \n",
              "var gd = document.getElementById('1100d283-f736-4f1c-bf11-642eb4b373f9');\n",
              "var x = new MutationObserver(function (mutations, observer) {{\n",
              "        var display = window.getComputedStyle(gd).display;\n",
              "        if (!display || display === 'none') {{\n",
              "            console.log([gd, 'removed!']);\n",
              "            Plotly.purge(gd);\n",
              "            observer.disconnect();\n",
              "        }}\n",
              "}});\n",
              "\n",
              "// Listen for the removal of the full notebook cells\n",
              "var notebookContainer = gd.closest('#notebook-container');\n",
              "if (notebookContainer) {{\n",
              "    x.observe(notebookContainer, {childList: true});\n",
              "}}\n",
              "\n",
              "// Listen for the clearing of the current output cell\n",
              "var outputEl = gd.closest('.output');\n",
              "if (outputEl) {{\n",
              "    x.observe(outputEl, {childList: true});\n",
              "}}\n",
              "\n",
              "                        })\n",
              "                };\n",
              "                \n",
              "            </script>\n",
              "        </div>\n",
              "</body>\n",
              "</html>"
            ]
          },
          "metadata": {
            "tags": []
          }
        }
      ]
    },
    {
      "cell_type": "markdown",
      "metadata": {
        "id": "cz8KYx-Pe32B"
      },
      "source": [
        "The resulting features are now more likely to be meaningful to sentiment analysis for the reviewed products, in particular when considering 2-grams and 3-grams."
      ]
    },
    {
      "cell_type": "code",
      "metadata": {
        "execution": {
          "iopub.status.busy": "2021-06-14T15:55:56.976539Z",
          "iopub.execute_input": "2021-06-14T15:55:56.976984Z",
          "iopub.status.idle": "2021-06-14T15:56:47.577206Z",
          "shell.execute_reply.started": "2021-06-14T15:55:56.976951Z",
          "shell.execute_reply": "2021-06-14T15:56:47.576001Z"
        },
        "trusted": true,
        "colab": {
          "base_uri": "https://localhost:8080/",
          "height": 617
        },
        "id": "EVALl7Ohe32B",
        "outputId": "cc33e361-7405-41cc-817f-468b2e3546a3"
      },
      "source": [
        "cv2 = CountVectorizer(ngram_range=(2,3), stop_words=frozenset(sw))\n",
        "cv2.fit(df['text'])\n",
        "fts2 = cv2.get_feature_names()\n",
        "\n",
        "freq_pos = cv2.transform(df.loc[df['label'] == 2, 'text'])\n",
        "gram_counts_pos = np.array(freq_pos.sum(0)).squeeze()\n",
        "\n",
        "gram_counts_pos_df = pd.DataFrame({'n-gram': [fts2[i] for i in gram_counts_pos.argsort()],\n",
        "                               'count': sorted(gram_counts_pos)})\n",
        "\n",
        "px.bar(gram_counts_pos_df[-20:], y='n-gram', x='count', title='Most frequent 2/3-grams w/o stopwords - Positive reviews',\n",
        "       orientation='h', height=600)"
      ],
      "execution_count": 15,
      "outputs": [
        {
          "output_type": "display_data",
          "data": {
            "text/html": [
              "<html>\n",
              "<head><meta charset=\"utf-8\" /></head>\n",
              "<body>\n",
              "    <div>\n",
              "            <script src=\"https://cdnjs.cloudflare.com/ajax/libs/mathjax/2.7.5/MathJax.js?config=TeX-AMS-MML_SVG\"></script><script type=\"text/javascript\">if (window.MathJax) {MathJax.Hub.Config({SVG: {font: \"STIX-Web\"}});}</script>\n",
              "                <script type=\"text/javascript\">window.PlotlyConfig = {MathJaxConfig: 'local'};</script>\n",
              "        <script src=\"https://cdn.plot.ly/plotly-latest.min.js\"></script>    \n",
              "            <div id=\"e3a4bcd2-7e10-4e4a-809f-2285a792844f\" class=\"plotly-graph-div\" style=\"height:600px; width:100%;\"></div>\n",
              "            <script type=\"text/javascript\">\n",
              "                \n",
              "                    window.PLOTLYENV=window.PLOTLYENV || {};\n",
              "                    \n",
              "                if (document.getElementById(\"e3a4bcd2-7e10-4e4a-809f-2285a792844f\")) {\n",
              "                    Plotly.newPlot(\n",
              "                        'e3a4bcd2-7e10-4e4a-809f-2285a792844f',\n",
              "                        [{\"alignmentgroup\": \"True\", \"hoverlabel\": {\"namelength\": 0}, \"hovertemplate\": \"count=%{x}<br>n-gram=%{y}\", \"legendgroup\": \"\", \"marker\": {\"color\": \"#636efa\"}, \"name\": \"\", \"offsetgroup\": \"\", \"orientation\": \"h\", \"showlegend\": false, \"textposition\": \"auto\", \"type\": \"bar\", \"x\": [363, 374, 376, 385, 402, 409, 418, 427, 428, 429, 442, 455, 459, 465, 649, 678, 756, 877, 914, 929], \"xaxis\": \"x\", \"y\": [\"highly recommended\", \"even though\", \"first time\", \"well worth\", \"book read\", \"easy use\", \"long time\", \"well written\", \"recommend book\", \"must read\", \"years ago\", \"great product\", \"works great\", \"good book\", \"would recommend\", \"year old\", \"great book\", \"highly recommend\", \"one best\", \"read book\"], \"yaxis\": \"y\"}],\n",
              "                        {\"barmode\": \"relative\", \"height\": 600, \"legend\": {\"tracegroupgap\": 0}, \"template\": {\"data\": {\"bar\": [{\"error_x\": {\"color\": \"#2a3f5f\"}, \"error_y\": {\"color\": \"#2a3f5f\"}, \"marker\": {\"line\": {\"color\": \"#E5ECF6\", \"width\": 0.5}}, \"type\": \"bar\"}], \"barpolar\": [{\"marker\": {\"line\": {\"color\": \"#E5ECF6\", \"width\": 0.5}}, \"type\": \"barpolar\"}], \"carpet\": [{\"aaxis\": {\"endlinecolor\": \"#2a3f5f\", \"gridcolor\": \"white\", \"linecolor\": \"white\", \"minorgridcolor\": \"white\", \"startlinecolor\": \"#2a3f5f\"}, \"baxis\": {\"endlinecolor\": \"#2a3f5f\", \"gridcolor\": \"white\", \"linecolor\": \"white\", \"minorgridcolor\": \"white\", \"startlinecolor\": \"#2a3f5f\"}, \"type\": \"carpet\"}], \"choropleth\": [{\"colorbar\": {\"outlinewidth\": 0, \"ticks\": \"\"}, \"type\": \"choropleth\"}], \"contour\": [{\"colorbar\": {\"outlinewidth\": 0, \"ticks\": \"\"}, \"colorscale\": [[0.0, \"#0d0887\"], [0.1111111111111111, \"#46039f\"], [0.2222222222222222, \"#7201a8\"], [0.3333333333333333, \"#9c179e\"], [0.4444444444444444, \"#bd3786\"], [0.5555555555555556, \"#d8576b\"], [0.6666666666666666, \"#ed7953\"], [0.7777777777777778, \"#fb9f3a\"], [0.8888888888888888, \"#fdca26\"], [1.0, \"#f0f921\"]], \"type\": \"contour\"}], \"contourcarpet\": [{\"colorbar\": {\"outlinewidth\": 0, \"ticks\": \"\"}, \"type\": \"contourcarpet\"}], \"heatmap\": [{\"colorbar\": {\"outlinewidth\": 0, \"ticks\": \"\"}, \"colorscale\": [[0.0, \"#0d0887\"], [0.1111111111111111, \"#46039f\"], [0.2222222222222222, \"#7201a8\"], [0.3333333333333333, \"#9c179e\"], [0.4444444444444444, \"#bd3786\"], [0.5555555555555556, \"#d8576b\"], [0.6666666666666666, \"#ed7953\"], [0.7777777777777778, \"#fb9f3a\"], [0.8888888888888888, \"#fdca26\"], [1.0, \"#f0f921\"]], \"type\": \"heatmap\"}], \"heatmapgl\": [{\"colorbar\": {\"outlinewidth\": 0, \"ticks\": \"\"}, \"colorscale\": [[0.0, \"#0d0887\"], [0.1111111111111111, \"#46039f\"], [0.2222222222222222, \"#7201a8\"], [0.3333333333333333, \"#9c179e\"], [0.4444444444444444, \"#bd3786\"], [0.5555555555555556, \"#d8576b\"], [0.6666666666666666, \"#ed7953\"], [0.7777777777777778, \"#fb9f3a\"], [0.8888888888888888, \"#fdca26\"], [1.0, \"#f0f921\"]], \"type\": \"heatmapgl\"}], \"histogram\": [{\"marker\": {\"colorbar\": {\"outlinewidth\": 0, \"ticks\": \"\"}}, \"type\": \"histogram\"}], \"histogram2d\": [{\"colorbar\": {\"outlinewidth\": 0, \"ticks\": \"\"}, \"colorscale\": [[0.0, \"#0d0887\"], [0.1111111111111111, \"#46039f\"], [0.2222222222222222, \"#7201a8\"], [0.3333333333333333, \"#9c179e\"], [0.4444444444444444, \"#bd3786\"], [0.5555555555555556, \"#d8576b\"], [0.6666666666666666, \"#ed7953\"], [0.7777777777777778, \"#fb9f3a\"], [0.8888888888888888, \"#fdca26\"], [1.0, \"#f0f921\"]], \"type\": \"histogram2d\"}], \"histogram2dcontour\": [{\"colorbar\": {\"outlinewidth\": 0, \"ticks\": \"\"}, \"colorscale\": [[0.0, \"#0d0887\"], [0.1111111111111111, \"#46039f\"], [0.2222222222222222, \"#7201a8\"], [0.3333333333333333, \"#9c179e\"], [0.4444444444444444, \"#bd3786\"], [0.5555555555555556, \"#d8576b\"], [0.6666666666666666, \"#ed7953\"], [0.7777777777777778, \"#fb9f3a\"], [0.8888888888888888, \"#fdca26\"], [1.0, \"#f0f921\"]], \"type\": \"histogram2dcontour\"}], \"mesh3d\": [{\"colorbar\": {\"outlinewidth\": 0, \"ticks\": \"\"}, \"type\": \"mesh3d\"}], \"parcoords\": [{\"line\": {\"colorbar\": {\"outlinewidth\": 0, \"ticks\": \"\"}}, \"type\": \"parcoords\"}], \"pie\": [{\"automargin\": true, \"type\": \"pie\"}], \"scatter\": [{\"marker\": {\"colorbar\": {\"outlinewidth\": 0, \"ticks\": \"\"}}, \"type\": \"scatter\"}], \"scatter3d\": [{\"line\": {\"colorbar\": {\"outlinewidth\": 0, \"ticks\": \"\"}}, \"marker\": {\"colorbar\": {\"outlinewidth\": 0, \"ticks\": \"\"}}, \"type\": \"scatter3d\"}], \"scattercarpet\": [{\"marker\": {\"colorbar\": {\"outlinewidth\": 0, \"ticks\": \"\"}}, \"type\": \"scattercarpet\"}], \"scattergeo\": [{\"marker\": {\"colorbar\": {\"outlinewidth\": 0, \"ticks\": \"\"}}, \"type\": \"scattergeo\"}], \"scattergl\": [{\"marker\": {\"colorbar\": {\"outlinewidth\": 0, \"ticks\": \"\"}}, \"type\": \"scattergl\"}], \"scattermapbox\": [{\"marker\": {\"colorbar\": {\"outlinewidth\": 0, \"ticks\": \"\"}}, \"type\": \"scattermapbox\"}], \"scatterpolar\": [{\"marker\": {\"colorbar\": {\"outlinewidth\": 0, \"ticks\": \"\"}}, \"type\": \"scatterpolar\"}], \"scatterpolargl\": [{\"marker\": {\"colorbar\": {\"outlinewidth\": 0, \"ticks\": \"\"}}, \"type\": \"scatterpolargl\"}], \"scatterternary\": [{\"marker\": {\"colorbar\": {\"outlinewidth\": 0, \"ticks\": \"\"}}, \"type\": \"scatterternary\"}], \"surface\": [{\"colorbar\": {\"outlinewidth\": 0, \"ticks\": \"\"}, \"colorscale\": [[0.0, \"#0d0887\"], [0.1111111111111111, \"#46039f\"], [0.2222222222222222, \"#7201a8\"], [0.3333333333333333, \"#9c179e\"], [0.4444444444444444, \"#bd3786\"], [0.5555555555555556, \"#d8576b\"], [0.6666666666666666, \"#ed7953\"], [0.7777777777777778, \"#fb9f3a\"], [0.8888888888888888, \"#fdca26\"], [1.0, \"#f0f921\"]], \"type\": \"surface\"}], \"table\": [{\"cells\": {\"fill\": {\"color\": \"#EBF0F8\"}, \"line\": {\"color\": \"white\"}}, \"header\": {\"fill\": {\"color\": \"#C8D4E3\"}, \"line\": {\"color\": \"white\"}}, \"type\": \"table\"}]}, \"layout\": {\"annotationdefaults\": {\"arrowcolor\": \"#2a3f5f\", \"arrowhead\": 0, \"arrowwidth\": 1}, \"coloraxis\": {\"colorbar\": {\"outlinewidth\": 0, \"ticks\": \"\"}}, \"colorscale\": {\"diverging\": [[0, \"#8e0152\"], [0.1, \"#c51b7d\"], [0.2, \"#de77ae\"], [0.3, \"#f1b6da\"], [0.4, \"#fde0ef\"], [0.5, \"#f7f7f7\"], [0.6, \"#e6f5d0\"], [0.7, \"#b8e186\"], [0.8, \"#7fbc41\"], [0.9, \"#4d9221\"], [1, \"#276419\"]], \"sequential\": [[0.0, \"#0d0887\"], [0.1111111111111111, \"#46039f\"], [0.2222222222222222, \"#7201a8\"], [0.3333333333333333, \"#9c179e\"], [0.4444444444444444, \"#bd3786\"], [0.5555555555555556, \"#d8576b\"], [0.6666666666666666, \"#ed7953\"], [0.7777777777777778, \"#fb9f3a\"], [0.8888888888888888, \"#fdca26\"], [1.0, \"#f0f921\"]], \"sequentialminus\": [[0.0, \"#0d0887\"], [0.1111111111111111, \"#46039f\"], [0.2222222222222222, \"#7201a8\"], [0.3333333333333333, \"#9c179e\"], [0.4444444444444444, \"#bd3786\"], [0.5555555555555556, \"#d8576b\"], [0.6666666666666666, \"#ed7953\"], [0.7777777777777778, \"#fb9f3a\"], [0.8888888888888888, \"#fdca26\"], [1.0, \"#f0f921\"]]}, \"colorway\": [\"#636efa\", \"#EF553B\", \"#00cc96\", \"#ab63fa\", \"#FFA15A\", \"#19d3f3\", \"#FF6692\", \"#B6E880\", \"#FF97FF\", \"#FECB52\"], \"font\": {\"color\": \"#2a3f5f\"}, \"geo\": {\"bgcolor\": \"white\", \"lakecolor\": \"white\", \"landcolor\": \"#E5ECF6\", \"showlakes\": true, \"showland\": true, \"subunitcolor\": \"white\"}, \"hoverlabel\": {\"align\": \"left\"}, \"hovermode\": \"closest\", \"mapbox\": {\"style\": \"light\"}, \"paper_bgcolor\": \"white\", \"plot_bgcolor\": \"#E5ECF6\", \"polar\": {\"angularaxis\": {\"gridcolor\": \"white\", \"linecolor\": \"white\", \"ticks\": \"\"}, \"bgcolor\": \"#E5ECF6\", \"radialaxis\": {\"gridcolor\": \"white\", \"linecolor\": \"white\", \"ticks\": \"\"}}, \"scene\": {\"xaxis\": {\"backgroundcolor\": \"#E5ECF6\", \"gridcolor\": \"white\", \"gridwidth\": 2, \"linecolor\": \"white\", \"showbackground\": true, \"ticks\": \"\", \"zerolinecolor\": \"white\"}, \"yaxis\": {\"backgroundcolor\": \"#E5ECF6\", \"gridcolor\": \"white\", \"gridwidth\": 2, \"linecolor\": \"white\", \"showbackground\": true, \"ticks\": \"\", \"zerolinecolor\": \"white\"}, \"zaxis\": {\"backgroundcolor\": \"#E5ECF6\", \"gridcolor\": \"white\", \"gridwidth\": 2, \"linecolor\": \"white\", \"showbackground\": true, \"ticks\": \"\", \"zerolinecolor\": \"white\"}}, \"shapedefaults\": {\"line\": {\"color\": \"#2a3f5f\"}}, \"ternary\": {\"aaxis\": {\"gridcolor\": \"white\", \"linecolor\": \"white\", \"ticks\": \"\"}, \"baxis\": {\"gridcolor\": \"white\", \"linecolor\": \"white\", \"ticks\": \"\"}, \"bgcolor\": \"#E5ECF6\", \"caxis\": {\"gridcolor\": \"white\", \"linecolor\": \"white\", \"ticks\": \"\"}}, \"title\": {\"x\": 0.05}, \"xaxis\": {\"automargin\": true, \"gridcolor\": \"white\", \"linecolor\": \"white\", \"ticks\": \"\", \"title\": {\"standoff\": 15}, \"zerolinecolor\": \"white\", \"zerolinewidth\": 2}, \"yaxis\": {\"automargin\": true, \"gridcolor\": \"white\", \"linecolor\": \"white\", \"ticks\": \"\", \"title\": {\"standoff\": 15}, \"zerolinecolor\": \"white\", \"zerolinewidth\": 2}}}, \"title\": {\"text\": \"Most frequent 2/3-grams w/o stopwords - Positive reviews\"}, \"xaxis\": {\"anchor\": \"y\", \"domain\": [0.0, 1.0], \"title\": {\"text\": \"count\"}}, \"yaxis\": {\"anchor\": \"x\", \"domain\": [0.0, 1.0], \"title\": {\"text\": \"n-gram\"}}},\n",
              "                        {\"responsive\": true}\n",
              "                    ).then(function(){\n",
              "                            \n",
              "var gd = document.getElementById('e3a4bcd2-7e10-4e4a-809f-2285a792844f');\n",
              "var x = new MutationObserver(function (mutations, observer) {{\n",
              "        var display = window.getComputedStyle(gd).display;\n",
              "        if (!display || display === 'none') {{\n",
              "            console.log([gd, 'removed!']);\n",
              "            Plotly.purge(gd);\n",
              "            observer.disconnect();\n",
              "        }}\n",
              "}});\n",
              "\n",
              "// Listen for the removal of the full notebook cells\n",
              "var notebookContainer = gd.closest('#notebook-container');\n",
              "if (notebookContainer) {{\n",
              "    x.observe(notebookContainer, {childList: true});\n",
              "}}\n",
              "\n",
              "// Listen for the clearing of the current output cell\n",
              "var outputEl = gd.closest('.output');\n",
              "if (outputEl) {{\n",
              "    x.observe(outputEl, {childList: true});\n",
              "}}\n",
              "\n",
              "                        })\n",
              "                };\n",
              "                \n",
              "            </script>\n",
              "        </div>\n",
              "</body>\n",
              "</html>"
            ]
          },
          "metadata": {
            "tags": []
          }
        }
      ]
    },
    {
      "cell_type": "code",
      "metadata": {
        "execution": {
          "iopub.status.busy": "2021-06-14T15:57:20.589160Z",
          "iopub.execute_input": "2021-06-14T15:57:20.589559Z",
          "iopub.status.idle": "2021-06-14T15:57:34.210549Z",
          "shell.execute_reply.started": "2021-06-14T15:57:20.589525Z",
          "shell.execute_reply": "2021-06-14T15:57:34.209366Z"
        },
        "trusted": true,
        "colab": {
          "base_uri": "https://localhost:8080/",
          "height": 617
        },
        "id": "qFwp1mlMe32C",
        "outputId": "e35a8548-af6d-453c-b477-91e9d833ff99"
      },
      "source": [
        "freq_neg = cv2.transform(df.loc[df['label'] == 1, 'text'])\n",
        "gram_counts_neg = np.array(freq_neg.sum(0)).squeeze()\n",
        "gram_counts_neg_df = pd.DataFrame({'n-gram': [fts2[i] for i in gram_counts_neg.argsort()],\n",
        "                               'count': sorted(gram_counts_neg)})\n",
        "\n",
        "px.bar(gram_counts_neg_df[-20:], y='n-gram', x='count', title='Most frequent 2/3-grams w/o stopwords - Negative reviews',\n",
        "       orientation='h', height=600)"
      ],
      "execution_count": 16,
      "outputs": [
        {
          "output_type": "display_data",
          "data": {
            "text/html": [
              "<html>\n",
              "<head><meta charset=\"utf-8\" /></head>\n",
              "<body>\n",
              "    <div>\n",
              "            <script src=\"https://cdnjs.cloudflare.com/ajax/libs/mathjax/2.7.5/MathJax.js?config=TeX-AMS-MML_SVG\"></script><script type=\"text/javascript\">if (window.MathJax) {MathJax.Hub.Config({SVG: {font: \"STIX-Web\"}});}</script>\n",
              "                <script type=\"text/javascript\">window.PlotlyConfig = {MathJaxConfig: 'local'};</script>\n",
              "        <script src=\"https://cdn.plot.ly/plotly-latest.min.js\"></script>    \n",
              "            <div id=\"60d57443-b6a2-4155-a6b6-483a73517578\" class=\"plotly-graph-div\" style=\"height:600px; width:100%;\"></div>\n",
              "            <script type=\"text/javascript\">\n",
              "                \n",
              "                    window.PLOTLYENV=window.PLOTLYENV || {};\n",
              "                    \n",
              "                if (document.getElementById(\"60d57443-b6a2-4155-a6b6-483a73517578\")) {\n",
              "                    Plotly.newPlot(\n",
              "                        '60d57443-b6a2-4155-a6b6-483a73517578',\n",
              "                        [{\"alignmentgroup\": \"True\", \"hoverlabel\": {\"namelength\": 0}, \"hovertemplate\": \"count=%{x}<br>n-gram=%{y}\", \"legendgroup\": \"\", \"marker\": {\"color\": \"#636efa\"}, \"name\": \"\", \"offsetgroup\": \"\", \"orientation\": \"h\", \"showlegend\": false, \"textposition\": \"auto\", \"type\": \"bar\", \"x\": [277, 303, 304, 309, 310, 316, 332, 345, 360, 370, 382, 394, 459, 549, 595, 617, 620, 650, 895, 1422], \"xaxis\": \"x\", \"y\": [\"one worst\", \"stopped working\", \"sounds like\", \"years ago\", \"looks like\", \"stay away\", \"one star\", \"time money\", \"thought would\", \"first time\", \"even though\", \"poor quality\", \"customer service\", \"year old\", \"read book\", \"would recommend\", \"save money\", \"much better\", \"waste time\", \"waste money\"], \"yaxis\": \"y\"}],\n",
              "                        {\"barmode\": \"relative\", \"height\": 600, \"legend\": {\"tracegroupgap\": 0}, \"template\": {\"data\": {\"bar\": [{\"error_x\": {\"color\": \"#2a3f5f\"}, \"error_y\": {\"color\": \"#2a3f5f\"}, \"marker\": {\"line\": {\"color\": \"#E5ECF6\", \"width\": 0.5}}, \"type\": \"bar\"}], \"barpolar\": [{\"marker\": {\"line\": {\"color\": \"#E5ECF6\", \"width\": 0.5}}, \"type\": \"barpolar\"}], \"carpet\": [{\"aaxis\": {\"endlinecolor\": \"#2a3f5f\", \"gridcolor\": \"white\", \"linecolor\": \"white\", \"minorgridcolor\": \"white\", \"startlinecolor\": \"#2a3f5f\"}, \"baxis\": {\"endlinecolor\": \"#2a3f5f\", \"gridcolor\": \"white\", \"linecolor\": \"white\", \"minorgridcolor\": \"white\", \"startlinecolor\": \"#2a3f5f\"}, \"type\": \"carpet\"}], \"choropleth\": [{\"colorbar\": {\"outlinewidth\": 0, \"ticks\": \"\"}, \"type\": \"choropleth\"}], \"contour\": [{\"colorbar\": {\"outlinewidth\": 0, \"ticks\": \"\"}, \"colorscale\": [[0.0, \"#0d0887\"], [0.1111111111111111, \"#46039f\"], [0.2222222222222222, \"#7201a8\"], [0.3333333333333333, \"#9c179e\"], [0.4444444444444444, \"#bd3786\"], [0.5555555555555556, \"#d8576b\"], [0.6666666666666666, \"#ed7953\"], [0.7777777777777778, \"#fb9f3a\"], [0.8888888888888888, \"#fdca26\"], [1.0, \"#f0f921\"]], \"type\": \"contour\"}], \"contourcarpet\": [{\"colorbar\": {\"outlinewidth\": 0, \"ticks\": \"\"}, \"type\": \"contourcarpet\"}], \"heatmap\": [{\"colorbar\": {\"outlinewidth\": 0, \"ticks\": \"\"}, \"colorscale\": [[0.0, \"#0d0887\"], [0.1111111111111111, \"#46039f\"], [0.2222222222222222, \"#7201a8\"], [0.3333333333333333, \"#9c179e\"], [0.4444444444444444, \"#bd3786\"], [0.5555555555555556, \"#d8576b\"], [0.6666666666666666, \"#ed7953\"], [0.7777777777777778, \"#fb9f3a\"], [0.8888888888888888, \"#fdca26\"], [1.0, \"#f0f921\"]], \"type\": \"heatmap\"}], \"heatmapgl\": [{\"colorbar\": {\"outlinewidth\": 0, \"ticks\": \"\"}, \"colorscale\": [[0.0, \"#0d0887\"], [0.1111111111111111, \"#46039f\"], [0.2222222222222222, \"#7201a8\"], [0.3333333333333333, \"#9c179e\"], [0.4444444444444444, \"#bd3786\"], [0.5555555555555556, \"#d8576b\"], [0.6666666666666666, \"#ed7953\"], [0.7777777777777778, \"#fb9f3a\"], [0.8888888888888888, \"#fdca26\"], [1.0, \"#f0f921\"]], \"type\": \"heatmapgl\"}], \"histogram\": [{\"marker\": {\"colorbar\": {\"outlinewidth\": 0, \"ticks\": \"\"}}, \"type\": \"histogram\"}], \"histogram2d\": [{\"colorbar\": {\"outlinewidth\": 0, \"ticks\": \"\"}, \"colorscale\": [[0.0, \"#0d0887\"], [0.1111111111111111, \"#46039f\"], [0.2222222222222222, \"#7201a8\"], [0.3333333333333333, \"#9c179e\"], [0.4444444444444444, \"#bd3786\"], [0.5555555555555556, \"#d8576b\"], [0.6666666666666666, \"#ed7953\"], [0.7777777777777778, \"#fb9f3a\"], [0.8888888888888888, \"#fdca26\"], [1.0, \"#f0f921\"]], \"type\": \"histogram2d\"}], \"histogram2dcontour\": [{\"colorbar\": {\"outlinewidth\": 0, \"ticks\": \"\"}, \"colorscale\": [[0.0, \"#0d0887\"], [0.1111111111111111, \"#46039f\"], [0.2222222222222222, \"#7201a8\"], [0.3333333333333333, \"#9c179e\"], [0.4444444444444444, \"#bd3786\"], [0.5555555555555556, \"#d8576b\"], [0.6666666666666666, \"#ed7953\"], [0.7777777777777778, \"#fb9f3a\"], [0.8888888888888888, \"#fdca26\"], [1.0, \"#f0f921\"]], \"type\": \"histogram2dcontour\"}], \"mesh3d\": [{\"colorbar\": {\"outlinewidth\": 0, \"ticks\": \"\"}, \"type\": \"mesh3d\"}], \"parcoords\": [{\"line\": {\"colorbar\": {\"outlinewidth\": 0, \"ticks\": \"\"}}, \"type\": \"parcoords\"}], \"pie\": [{\"automargin\": true, \"type\": \"pie\"}], \"scatter\": [{\"marker\": {\"colorbar\": {\"outlinewidth\": 0, \"ticks\": \"\"}}, \"type\": \"scatter\"}], \"scatter3d\": [{\"line\": {\"colorbar\": {\"outlinewidth\": 0, \"ticks\": \"\"}}, \"marker\": {\"colorbar\": {\"outlinewidth\": 0, \"ticks\": \"\"}}, \"type\": \"scatter3d\"}], \"scattercarpet\": [{\"marker\": {\"colorbar\": {\"outlinewidth\": 0, \"ticks\": \"\"}}, \"type\": \"scattercarpet\"}], \"scattergeo\": [{\"marker\": {\"colorbar\": {\"outlinewidth\": 0, \"ticks\": \"\"}}, \"type\": \"scattergeo\"}], \"scattergl\": [{\"marker\": {\"colorbar\": {\"outlinewidth\": 0, \"ticks\": \"\"}}, \"type\": \"scattergl\"}], \"scattermapbox\": [{\"marker\": {\"colorbar\": {\"outlinewidth\": 0, \"ticks\": \"\"}}, \"type\": \"scattermapbox\"}], \"scatterpolar\": [{\"marker\": {\"colorbar\": {\"outlinewidth\": 0, \"ticks\": \"\"}}, \"type\": \"scatterpolar\"}], \"scatterpolargl\": [{\"marker\": {\"colorbar\": {\"outlinewidth\": 0, \"ticks\": \"\"}}, \"type\": \"scatterpolargl\"}], \"scatterternary\": [{\"marker\": {\"colorbar\": {\"outlinewidth\": 0, \"ticks\": \"\"}}, \"type\": \"scatterternary\"}], \"surface\": [{\"colorbar\": {\"outlinewidth\": 0, \"ticks\": \"\"}, \"colorscale\": [[0.0, \"#0d0887\"], [0.1111111111111111, \"#46039f\"], [0.2222222222222222, \"#7201a8\"], [0.3333333333333333, \"#9c179e\"], [0.4444444444444444, \"#bd3786\"], [0.5555555555555556, \"#d8576b\"], [0.6666666666666666, \"#ed7953\"], [0.7777777777777778, \"#fb9f3a\"], [0.8888888888888888, \"#fdca26\"], [1.0, \"#f0f921\"]], \"type\": \"surface\"}], \"table\": [{\"cells\": {\"fill\": {\"color\": \"#EBF0F8\"}, \"line\": {\"color\": \"white\"}}, \"header\": {\"fill\": {\"color\": \"#C8D4E3\"}, \"line\": {\"color\": \"white\"}}, \"type\": \"table\"}]}, \"layout\": {\"annotationdefaults\": {\"arrowcolor\": \"#2a3f5f\", \"arrowhead\": 0, \"arrowwidth\": 1}, \"coloraxis\": {\"colorbar\": {\"outlinewidth\": 0, \"ticks\": \"\"}}, \"colorscale\": {\"diverging\": [[0, \"#8e0152\"], [0.1, \"#c51b7d\"], [0.2, \"#de77ae\"], [0.3, \"#f1b6da\"], [0.4, \"#fde0ef\"], [0.5, \"#f7f7f7\"], [0.6, \"#e6f5d0\"], [0.7, \"#b8e186\"], [0.8, \"#7fbc41\"], [0.9, \"#4d9221\"], [1, \"#276419\"]], \"sequential\": [[0.0, \"#0d0887\"], [0.1111111111111111, \"#46039f\"], [0.2222222222222222, \"#7201a8\"], [0.3333333333333333, \"#9c179e\"], [0.4444444444444444, \"#bd3786\"], [0.5555555555555556, \"#d8576b\"], [0.6666666666666666, \"#ed7953\"], [0.7777777777777778, \"#fb9f3a\"], [0.8888888888888888, \"#fdca26\"], [1.0, \"#f0f921\"]], \"sequentialminus\": [[0.0, \"#0d0887\"], [0.1111111111111111, \"#46039f\"], [0.2222222222222222, \"#7201a8\"], [0.3333333333333333, \"#9c179e\"], [0.4444444444444444, \"#bd3786\"], [0.5555555555555556, \"#d8576b\"], [0.6666666666666666, \"#ed7953\"], [0.7777777777777778, \"#fb9f3a\"], [0.8888888888888888, \"#fdca26\"], [1.0, \"#f0f921\"]]}, \"colorway\": [\"#636efa\", \"#EF553B\", \"#00cc96\", \"#ab63fa\", \"#FFA15A\", \"#19d3f3\", \"#FF6692\", \"#B6E880\", \"#FF97FF\", \"#FECB52\"], \"font\": {\"color\": \"#2a3f5f\"}, \"geo\": {\"bgcolor\": \"white\", \"lakecolor\": \"white\", \"landcolor\": \"#E5ECF6\", \"showlakes\": true, \"showland\": true, \"subunitcolor\": \"white\"}, \"hoverlabel\": {\"align\": \"left\"}, \"hovermode\": \"closest\", \"mapbox\": {\"style\": \"light\"}, \"paper_bgcolor\": \"white\", \"plot_bgcolor\": \"#E5ECF6\", \"polar\": {\"angularaxis\": {\"gridcolor\": \"white\", \"linecolor\": \"white\", \"ticks\": \"\"}, \"bgcolor\": \"#E5ECF6\", \"radialaxis\": {\"gridcolor\": \"white\", \"linecolor\": \"white\", \"ticks\": \"\"}}, \"scene\": {\"xaxis\": {\"backgroundcolor\": \"#E5ECF6\", \"gridcolor\": \"white\", \"gridwidth\": 2, \"linecolor\": \"white\", \"showbackground\": true, \"ticks\": \"\", \"zerolinecolor\": \"white\"}, \"yaxis\": {\"backgroundcolor\": \"#E5ECF6\", \"gridcolor\": \"white\", \"gridwidth\": 2, \"linecolor\": \"white\", \"showbackground\": true, \"ticks\": \"\", \"zerolinecolor\": \"white\"}, \"zaxis\": {\"backgroundcolor\": \"#E5ECF6\", \"gridcolor\": \"white\", \"gridwidth\": 2, \"linecolor\": \"white\", \"showbackground\": true, \"ticks\": \"\", \"zerolinecolor\": \"white\"}}, \"shapedefaults\": {\"line\": {\"color\": \"#2a3f5f\"}}, \"ternary\": {\"aaxis\": {\"gridcolor\": \"white\", \"linecolor\": \"white\", \"ticks\": \"\"}, \"baxis\": {\"gridcolor\": \"white\", \"linecolor\": \"white\", \"ticks\": \"\"}, \"bgcolor\": \"#E5ECF6\", \"caxis\": {\"gridcolor\": \"white\", \"linecolor\": \"white\", \"ticks\": \"\"}}, \"title\": {\"x\": 0.05}, \"xaxis\": {\"automargin\": true, \"gridcolor\": \"white\", \"linecolor\": \"white\", \"ticks\": \"\", \"title\": {\"standoff\": 15}, \"zerolinecolor\": \"white\", \"zerolinewidth\": 2}, \"yaxis\": {\"automargin\": true, \"gridcolor\": \"white\", \"linecolor\": \"white\", \"ticks\": \"\", \"title\": {\"standoff\": 15}, \"zerolinecolor\": \"white\", \"zerolinewidth\": 2}}}, \"title\": {\"text\": \"Most frequent 2/3-grams w/o stopwords - Negative reviews\"}, \"xaxis\": {\"anchor\": \"y\", \"domain\": [0.0, 1.0], \"title\": {\"text\": \"count\"}}, \"yaxis\": {\"anchor\": \"x\", \"domain\": [0.0, 1.0], \"title\": {\"text\": \"n-gram\"}}},\n",
              "                        {\"responsive\": true}\n",
              "                    ).then(function(){\n",
              "                            \n",
              "var gd = document.getElementById('60d57443-b6a2-4155-a6b6-483a73517578');\n",
              "var x = new MutationObserver(function (mutations, observer) {{\n",
              "        var display = window.getComputedStyle(gd).display;\n",
              "        if (!display || display === 'none') {{\n",
              "            console.log([gd, 'removed!']);\n",
              "            Plotly.purge(gd);\n",
              "            observer.disconnect();\n",
              "        }}\n",
              "}});\n",
              "\n",
              "// Listen for the removal of the full notebook cells\n",
              "var notebookContainer = gd.closest('#notebook-container');\n",
              "if (notebookContainer) {{\n",
              "    x.observe(notebookContainer, {childList: true});\n",
              "}}\n",
              "\n",
              "// Listen for the clearing of the current output cell\n",
              "var outputEl = gd.closest('.output');\n",
              "if (outputEl) {{\n",
              "    x.observe(outputEl, {childList: true});\n",
              "}}\n",
              "\n",
              "                        })\n",
              "                };\n",
              "                \n",
              "            </script>\n",
              "        </div>\n",
              "</body>\n",
              "</html>"
            ]
          },
          "metadata": {
            "tags": []
          }
        }
      ]
    },
    {
      "cell_type": "markdown",
      "metadata": {
        "id": "59nKHwoxe32D"
      },
      "source": [
        "We need to be careful when removing stopwords. For instance, we see from the charts that 'would recommend' is a frequent 2-gram in both types of reviews, since 'not' is currently included in our stopword list and therefore 'would recommend' and 'would not recommend' become the same token! This is clearly something we do not want to happen: let us fix the problem by modifying the stopword list."
      ]
    },
    {
      "cell_type": "code",
      "metadata": {
        "execution": {
          "iopub.status.busy": "2021-06-14T15:57:54.509998Z",
          "iopub.execute_input": "2021-06-14T15:57:54.510442Z",
          "iopub.status.idle": "2021-06-14T15:57:54.516577Z",
          "shell.execute_reply.started": "2021-06-14T15:57:54.510409Z",
          "shell.execute_reply": "2021-06-14T15:57:54.515295Z"
        },
        "trusted": true,
        "id": "fNHM8-Jre32D"
      },
      "source": [
        "for a in [l for l in sw if l.endswith('n') or l.endswith(\"n't\")][12:]:\n",
        "    sw.remove(a)\n",
        "sw.remove('no')\n",
        "sw.remove('nor')\n",
        "sw.remove('not')"
      ],
      "execution_count": 21,
      "outputs": []
    },
    {
      "cell_type": "code",
      "metadata": {
        "execution": {
          "iopub.status.busy": "2021-06-14T16:23:54.138493Z",
          "iopub.execute_input": "2021-06-14T16:23:54.138932Z",
          "iopub.status.idle": "2021-06-14T16:24:23.959635Z",
          "shell.execute_reply.started": "2021-06-14T16:23:54.138898Z",
          "shell.execute_reply": "2021-06-14T16:24:23.958444Z"
        },
        "trusted": true,
        "colab": {
          "base_uri": "https://localhost:8080/",
          "height": 503
        },
        "id": "bmR5TVU4e32E",
        "outputId": "4cda6898-6274-4ef9-8a41-4b9658f791ae"
      },
      "source": [
        "cvwosw_model = make_pipeline(CountVectorizer(ngram_range=(1,3), stop_words=frozenset(sw)), MultinomialNB())\n",
        "\n",
        "cvwosw_model.fit(x_train, y_train)\n",
        "preds = cvwosw_model.predict(x_test)\n",
        "\n",
        "print(\"Model: CountVectorizer + MultinomialNB w/o stopwords\")\n",
        "print(f\"Number of features: {len(cvwosw_model[0].vocabulary_)}\")\n",
        "print(\"Accuracy: {:.4f}\\n\".format(accuracy_score(y_test, preds)))\n",
        "mat = confusion_matrix(y_test, preds)\n",
        "sns.heatmap(mat, square=True, annot=True, fmt='d', cbar=False, xticklabels=cvwosw_model.classes_, yticklabels=cvwosw_model.classes_)\n",
        "plt.xlabel('Predicted label')\n",
        "plt.ylabel('True label')\n",
        "\n",
        "print(classification_report(y_test, preds, labels=cvwosw_model.classes_))"
      ],
      "execution_count": 23,
      "outputs": [
        {
          "output_type": "stream",
          "text": [
            "Model: CountVectorizer + MultinomialNB w/o stopwords\n",
            "Number of features: 3177717\n",
            "Accuracy: 0.8763\n",
            "\n",
            "              precision    recall  f1-score   support\n",
            "\n",
            "           1       0.85      0.91      0.88      4783\n",
            "           2       0.91      0.84      0.87      4974\n",
            "\n",
            "    accuracy                           0.88      9757\n",
            "   macro avg       0.88      0.88      0.88      9757\n",
            "weighted avg       0.88      0.88      0.88      9757\n",
            "\n"
          ],
          "name": "stdout"
        },
        {
          "output_type": "display_data",
          "data": {
            "image/png": "[encoded data removed]",
            "text/plain": [
              "<Figure size 432x288 with 1 Axes>"
            ]
          },
          "metadata": {
            "tags": []
          }
        }
      ]
    },
    {
      "cell_type": "code",
      "metadata": {
        "execution": {
          "iopub.status.busy": "2021-06-14T16:24:28.963532Z",
          "iopub.execute_input": "2021-06-14T16:24:28.963953Z",
          "iopub.status.idle": "2021-06-14T16:24:59.251626Z",
          "shell.execute_reply.started": "2021-06-14T16:24:28.963921Z",
          "shell.execute_reply": "2021-06-14T16:24:59.250510Z"
        },
        "trusted": true,
        "id": "RQpe-MfIe32F",
        "outputId": "c1545153-301d-4f03-f211-69cf7a8807f7"
      },
      "source": [
        "tfidfwosw_model = make_pipeline(TfidfVectorizer(ngram_range=(1,3), stop_words=frozenset(sw)), MultinomialNB())\n",
        "\n",
        "tfidfwosw_model.fit(x_train, y_train)\n",
        "preds = tfidfwosw_model.predict(x_test)\n",
        "\n",
        "print(\"Model: TfidfVectorizer + MultinomialNB w/o stopwords\")\n",
        "print(f\"Number of features: {len(tfidfwosw_model[0].vocabulary_)}\")\n",
        "print(\"Accuracy: {:.4f}\\n\".format(accuracy_score(y_test, preds)))\n",
        "mat = confusion_matrix(y_test, preds)\n",
        "sns.heatmap(mat, square=True, annot=True, fmt='d', cbar=False, xticklabels=tfidfwosw_model.classes_, yticklabels=tfidfwosw_model.classes_)\n",
        "plt.xlabel('Predicted label')\n",
        "plt.ylabel('True label')\n",
        "\n",
        "print(classification_report(y_test, preds, labels=tfidfwosw_model.classes_))"
      ],
      "execution_count": null,
      "outputs": [
        {
          "output_type": "stream",
          "text": [
            "Model: TfidfVectorizer + MultinomialNB w/o stopwords\n",
            "Number of features: 3177717\n",
            "Accuracy: 0.8759\n",
            "\n",
            "              precision    recall  f1-score   support\n",
            "\n",
            "           1       0.84      0.92      0.88      4783\n",
            "           2       0.91      0.84      0.87      4974\n",
            "\n",
            "    accuracy                           0.88      9757\n",
            "   macro avg       0.88      0.88      0.88      9757\n",
            "weighted avg       0.88      0.88      0.88      9757\n",
            "\n"
          ],
          "name": "stdout"
        },
        {
          "output_type": "display_data",
          "data": {
            "text/plain": [
              "<Figure size 432x288 with 1 Axes>"
            ],
            "image/png": "[encoded data removed]"
          },
          "metadata": {
            "tags": []
          }
        }
      ]
    },
    {
      "cell_type": "markdown",
      "metadata": {
        "id": "rGl26UZ1e32F"
      },
      "source": [
        "Vectorization using all n-grams in the original corpus still provides a model with better accuracy. However, removing stopwords has the advantage of reducing the number of features. To this end, another approach which can be tried is **lemmatization**, i.e. substituting all words in the corpus with their lemma, grouping together all inflected forms of the same word."
      ]
    },
    {
      "cell_type": "code",
      "metadata": {
        "execution": {
          "iopub.status.busy": "2021-06-14T16:00:01.038682Z",
          "iopub.execute_input": "2021-06-14T16:00:01.039276Z",
          "iopub.status.idle": "2021-06-14T16:20:32.730142Z",
          "shell.execute_reply.started": "2021-06-14T16:00:01.039216Z",
          "shell.execute_reply": "2021-06-14T16:20:32.728992Z"
        },
        "trusted": true,
        "id": "sjBHeniOe32G"
      },
      "source": [
        "spcy = spacy.load('en_core_web_sm')\n",
        "\n",
        "x_train_lemm = x_train.apply(lambda x: ' '.join([w.lemma_ for w in spcy(x)]))\n",
        "x_test_lemm = x_test.apply(lambda x: ' '.join([w.lemma_ for w in spcy(x)]))"
      ],
      "execution_count": 24,
      "outputs": []
    },
    {
      "cell_type": "code",
      "metadata": {
        "execution": {
          "iopub.status.busy": "2021-06-14T16:25:14.188169Z",
          "iopub.execute_input": "2021-06-14T16:25:14.188562Z",
          "iopub.status.idle": "2021-06-14T16:25:50.928874Z",
          "shell.execute_reply.started": "2021-06-14T16:25:14.188531Z",
          "shell.execute_reply": "2021-06-14T16:25:50.927604Z"
        },
        "trusted": true,
        "colab": {
          "base_uri": "https://localhost:8080/",
          "height": 503
        },
        "id": "T0Gbz5Txe32G",
        "outputId": "a792be11-5f6d-4bb0-b4f3-9f7d1dcaf675"
      },
      "source": [
        "cvlemm_model = make_pipeline(CountVectorizer(ngram_range=(1,3)), MultinomialNB())\n",
        "\n",
        "cvlemm_model.fit(x_train_lemm, y_train)\n",
        "preds = cvlemm_model.predict(x_test_lemm)\n",
        "\n",
        "print(\"Model: CountVectorizer + MultinomialNB lemmatized\")\n",
        "print(f\"Number of features: {len(cvlemm_model[0].vocabulary_)}\")\n",
        "print(\"Accuracy: {:.4f}\\n\".format(accuracy_score(y_test, preds)))\n",
        "mat = confusion_matrix(y_test, preds)\n",
        "sns.heatmap(mat, square=True, annot=True, fmt='d', cbar=False, xticklabels=cvlemm_model.classes_, yticklabels=cvlemm_model.classes_)\n",
        "plt.xlabel('Predicted label')\n",
        "plt.ylabel('True label')\n",
        "\n",
        "print(classification_report(y_test, preds, labels=cvlemm_model.classes_))"
      ],
      "execution_count": 25,
      "outputs": [
        {
          "output_type": "stream",
          "text": [
            "Model: CountVectorizer + MultinomialNB lemmatized\n",
            "Number of features: 3073096\n",
            "Accuracy: 0.8855\n",
            "\n",
            "              precision    recall  f1-score   support\n",
            "\n",
            "           1       0.85      0.93      0.89      4783\n",
            "           2       0.93      0.84      0.88      4974\n",
            "\n",
            "    accuracy                           0.89      9757\n",
            "   macro avg       0.89      0.89      0.89      9757\n",
            "weighted avg       0.89      0.89      0.89      9757\n",
            "\n"
          ],
          "name": "stdout"
        },
        {
          "output_type": "display_data",
          "data": {
            "image/png": "[encoded data removed]",
            "text/plain": [
              "<Figure size 432x288 with 1 Axes>"
            ]
          },
          "metadata": {
            "tags": []
          }
        }
      ]
    },
    {
      "cell_type": "markdown",
      "metadata": {
        "id": "pVsZYQaqe32H"
      },
      "source": [
        "Lemmatizing gives better results than removing stopwords, and it further reduces the number of features. It is expected, however, that a large portion of the resulting lemmas have little correlation with our target variable. We can perform a **Chi-square test** to determine if a feature (i.e. a n-gram in the corpus) and the target variable are dependent or not. We use a p-value threshold of 0.05."
      ]
    },
    {
      "cell_type": "code",
      "metadata": {
        "colab": {
          "base_uri": "https://localhost:8080/",
          "height": 503
        },
        "id": "1T1LsnrQvPct",
        "outputId": "f75ffbee-9503-42a3-c9c4-a523fa647870"
      },
      "source": [
        "fts = cvlemm_model[0].get_feature_names()\n",
        "p_value_lim = 0.05\n",
        "\n",
        "x_train_lemm_tr = cvlemm_model[0].transform(x_train_lemm)\n",
        "_, pval = chi2(x_train_lemm_tr, y_train)\n",
        "selected_vocab = np.array(fts)[pval < p_value_lim]\n",
        "\n",
        "cvlemm_model = make_pipeline(CountVectorizer(ngram_range=(1,3), vocabulary=list(selected_vocab)), MultinomialNB())\n",
        "\n",
        "cvlemm_model.fit(x_train_lemm, y_train)\n",
        "preds = cvlemm_model.predict(x_test_lemm)\n",
        "\n",
        "print(\"Model: CountVectorizer + MultinomialNB lemmatized\")\n",
        "print(f\"Number of features: {len(cvlemm_model[0].vocabulary_)}\")\n",
        "print(\"Accuracy: {:.4f}\\n\".format(accuracy_score(y_test, preds)))\n",
        "mat = confusion_matrix(y_test, preds)\n",
        "sns.heatmap(mat, square=True, annot=True, fmt='d', cbar=False, xticklabels=cvlemm_model.classes_, yticklabels=cvlemm_model.classes_)\n",
        "plt.xlabel('Predicted label')\n",
        "plt.ylabel('True label')\n",
        "\n",
        "print(classification_report(y_test, preds, labels=cvlemm_model.classes_))\n"
      ],
      "execution_count": 47,
      "outputs": [
        {
          "output_type": "stream",
          "text": [
            "Model: CountVectorizer + MultinomialNB lemmatized\n",
            "Number of features: 58887\n",
            "Accuracy: 0.8936\n",
            "\n",
            "              precision    recall  f1-score   support\n",
            "\n",
            "           1       0.89      0.89      0.89      4783\n",
            "           2       0.90      0.90      0.90      4974\n",
            "\n",
            "    accuracy                           0.89      9757\n",
            "   macro avg       0.89      0.89      0.89      9757\n",
            "weighted avg       0.89      0.89      0.89      9757\n",
            "\n"
          ],
          "name": "stdout"
        },
        {
          "output_type": "display_data",
          "data": {
            "image/png": "[encoded data removed]",
            "text/plain": [
              "<Figure size 432x288 with 1 Axes>"
            ]
          },
          "metadata": {
            "tags": []
          }
        }
      ]
    },
    {
      "cell_type": "markdown",
      "metadata": {
        "id": "Ca75MgSS4XHE"
      },
      "source": [
        "By restricting to the more meaningful lemmas in the corpus we have reduced the number of features from over three milions to 58887, with a significant boost in accuracy. Let's print the twenty features which achieved lower p-values in the Chi-square test, that is the n-grams more likely to predict the target variable."
      ]
    },
    {
      "cell_type": "code",
      "metadata": {
        "colab": {
          "base_uri": "https://localhost:8080/"
        },
        "id": "qhY3CdPy5EXm",
        "outputId": "5b7841df-01f1-4cd9-d6c1-2c9169b35323"
      },
      "source": [
        "np.array(fts)[pval.argsort()][:20]"
      ],
      "execution_count": 54,
      "outputs": [
        {
          "output_type": "execute_result",
          "data": {
            "text/plain": [
              "array(['great', 'not', 'do not', 'love', 'money', 'bad', 'do', 'excellent', 'waste', 'pron money', 'not buy', 'good', 'return', 'poor', 'disappointed', 'no', 'be not', 'be great', 'not work',\n",
              "       'waste of'], dtype='<U34')"
            ]
          },
          "metadata": {
            "tags": []
          },
          "execution_count": 54
        }
      ]
    },
    {
      "cell_type": "markdown",
      "metadata": {
        "id": "vdo0pDpqe32H"
      },
      "source": [
        "## 3. Deep Learning <a id=3></a>\n",
        "\n",
        "Neural networks have proved to be extremely effective tools for NLP tasks. They generally provide significant improvements compared to standard ML models based on text features, even with minimal preprocessing (tokenization and numericalization of tokens is often enough). We will deploy two different models: one based on a Long Short-Term Memory (LSTM) recurrent neural network architecture and one using a state of the art transformer architecture. We will use PyTorch + fastai for implementation, together with huggingface Transformers library.\n",
        "\n",
        "### 3.1 LSTM <a id=3.1></a>\n",
        "\n",
        "We use the `AWD-LSTM` architecture by [Smerity et al.](https://arxiv.org/pdf/1708.02182.pdf) \n",
        "\n",
        "We first finetune on our corpus the **language model** (whose task is predicting the next token in the text based on the previous ones), before using it to build a classifier (*transfer learning*). Preprocessing is done by tokenizing with SpaCy and adding special tokens for capitalization, repetitions, beginning of strings, etc."
      ]
    },
    {
      "cell_type": "code",
      "metadata": {
        "execution": {
          "iopub.status.busy": "2021-06-14T16:27:34.070292Z",
          "iopub.execute_input": "2021-06-14T16:27:34.070708Z",
          "iopub.status.idle": "2021-06-14T16:29:56.922981Z",
          "shell.execute_reply.started": "2021-06-14T16:27:34.070662Z",
          "shell.execute_reply": "2021-06-14T16:29:56.921697Z"
        },
        "trusted": true,
        "id": "hxbTOPVte32H",
        "outputId": "d1f51ce9-52c3-4fb2-ad46-8d431049abb6"
      },
      "source": [
        "lm_dblock = DataBlock(blocks=TextBlock.from_df('text', is_lm=True),\n",
        "                   get_x=ColReader('text'),\n",
        "                   splitter=IndexSplitter(range(train_len, len(df))))\n",
        "lm_dls = lm_dblock.dataloaders(df, bs=32, seq_len=72)\n",
        "\n",
        "lm_dls.show_batch(dataloaders=lm_dls, max_n=4)"
      ],
      "execution_count": null,
      "outputs": [
        {
          "output_type": "display_data",
          "data": {
            "text/plain": [
              "<IPython.core.display.HTML object>"
            ],
            "text/html": [
              ""
            ]
          },
          "metadata": {
            "tags": []
          }
        },
        {
          "output_type": "display_data",
          "data": {
            "text/plain": [
              "<IPython.core.display.HTML object>"
            ],
            "text/html": [
              "<table border=\"1\" class=\"dataframe\">\n",
              "  <thead>\n",
              "    <tr style=\"text-align: right;\">\n",
              "      <th></th>\n",
              "      <th>text</th>\n",
              "      <th>text_</th>\n",
              "    </tr>\n",
              "  </thead>\n",
              "  <tbody>\n",
              "    <tr>\n",
              "      <th>0</th>\n",
              "      <td>xxbos a xxmaj true xxmaj star . i thought xxmaj fantasia was awesome on xxmaj american xxmaj idol , but i was not expecting this ! xxmaj she truely is a star with an impeccable voice . xxmaj she bares her soul and lets her voice be heard . xxmaj if you have n't watched xxmaj american xxmaj idol before , let this be the first person you listen to because this</td>\n",
              "      <td>a xxmaj true xxmaj star . i thought xxmaj fantasia was awesome on xxmaj american xxmaj idol , but i was not expecting this ! xxmaj she truely is a star with an impeccable voice . xxmaj she bares her soul and lets her voice be heard . xxmaj if you have n't watched xxmaj american xxmaj idol before , let this be the first person you listen to because this girl</td>\n",
              "    </tr>\n",
              "    <tr>\n",
              "      <th>1</th>\n",
              "      <td>fastest xxunk utilities available . xxmaj in addition the ability to configure the software to xxunk your drives while the computer is idle ( during a screen saver running for example ) makes this a great tool for your xxup pc toolbox . xxmaj in any event , do n't take my word for it . xxmaj you can download free xxunk at xxrep 3 w xxunk and try it for 30</td>\n",
              "      <td>xxunk utilities available . xxmaj in addition the ability to configure the software to xxunk your drives while the computer is idle ( during a screen saver running for example ) makes this a great tool for your xxup pc toolbox . xxmaj in any event , do n't take my word for it . xxmaj you can download free xxunk at xxrep 3 w xxunk and try it for 30 days</td>\n",
              "    </tr>\n",
              "    <tr>\n",
              "      <th>2</th>\n",
              "      <td>fans . xxmaj this video is a highlight film - not a complete video of the xxmaj super xxunk have a copy of the fabulous xxup xxunk xxmaj giants xxmaj super xxmaj bowl video . xxmaj it has all the playoff games , in their entirety . xxmaj this does n't even have the xxmaj super xxmaj bowl in its xxunk video should clearly state it is a \" highlight xxunk produce</td>\n",
              "      <td>. xxmaj this video is a highlight film - not a complete video of the xxmaj super xxunk have a copy of the fabulous xxup xxunk xxmaj giants xxmaj super xxmaj bowl video . xxmaj it has all the playoff games , in their entirety . xxmaj this does n't even have the xxmaj super xxmaj bowl in its xxunk video should clearly state it is a \" highlight xxunk produce a</td>\n",
              "    </tr>\n",
              "    <tr>\n",
              "      <th>3</th>\n",
              "      <td>xxmaj there was a cool band that opened up the show called xxmaj too xxmaj bad xxmaj eugene and they were cool as a lang hole . mxpx took the show . xxbos xxmaj scary ! . i read this book back in the 1970 's when it was first published . xxmaj peter xxmaj straub reminded me very much of the way xxmaj stephen xxmaj king used to write back then</td>\n",
              "      <td>there was a cool band that opened up the show called xxmaj too xxmaj bad xxmaj eugene and they were cool as a lang hole . mxpx took the show . xxbos xxmaj scary ! . i read this book back in the 1970 's when it was first published . xxmaj peter xxmaj straub reminded me very much of the way xxmaj stephen xxmaj king used to write back then --</td>\n",
              "    </tr>\n",
              "  </tbody>\n",
              "</table>"
            ]
          },
          "metadata": {
            "tags": []
          }
        }
      ]
    },
    {
      "cell_type": "markdown",
      "metadata": {
        "id": "vu1VeDu8e32I"
      },
      "source": [
        "Fastai provides a very convenient *learning rate finder* to determine the best learning rate. The training of the neural network will be then performed using the **1cycle** policy (each epoch features a *warmup phase*, where the learning rate is gradually increased, followed by an *annealing phase*, where the lr decreases back to the minimum)."
      ]
    },
    {
      "cell_type": "code",
      "metadata": {
        "execution": {
          "iopub.status.busy": "2021-06-14T16:30:49.982672Z",
          "iopub.execute_input": "2021-06-14T16:30:49.983138Z",
          "iopub.status.idle": "2021-06-14T16:31:18.100475Z",
          "shell.execute_reply.started": "2021-06-14T16:30:49.983105Z",
          "shell.execute_reply": "2021-06-14T16:31:18.099305Z"
        },
        "trusted": true,
        "id": "B10KHIc2e32I",
        "outputId": "3a691fe2-221d-4edb-a595-bb1c9d9a0d9d"
      },
      "source": [
        "lm_learn = language_model_learner(lm_dls, AWD_LSTM, drop_mult=0.3, metrics=[accuracy, perplexity])\n",
        "lm_learn.lr_find()"
      ],
      "execution_count": null,
      "outputs": [
        {
          "output_type": "display_data",
          "data": {
            "text/plain": [
              "<IPython.core.display.HTML object>"
            ],
            "text/html": [
              ""
            ]
          },
          "metadata": {
            "tags": []
          }
        },
        {
          "output_type": "display_data",
          "data": {
            "text/plain": [
              "<IPython.core.display.HTML object>"
            ],
            "text/html": [
              ""
            ]
          },
          "metadata": {
            "tags": []
          }
        },
        {
          "output_type": "execute_result",
          "data": {
            "text/plain": [
              "SuggestedLRs(lr_min=0.012022644281387329, lr_steep=0.02290867641568184)"
            ]
          },
          "metadata": {
            "tags": []
          },
          "execution_count": 29
        },
        {
          "output_type": "display_data",
          "data": {
            "text/plain": [
              "<Figure size 432x288 with 1 Axes>"
            ],
            "image/png": "[encoded data removed]"
          },
          "metadata": {
            "tags": []
          }
        }
      ]
    },
    {
      "cell_type": "code",
      "metadata": {
        "execution": {
          "iopub.status.busy": "2021-06-14T16:44:16.855788Z",
          "iopub.execute_input": "2021-06-14T16:44:16.856270Z",
          "iopub.status.idle": "2021-06-14T17:06:03.865702Z",
          "shell.execute_reply.started": "2021-06-14T16:44:16.856237Z",
          "shell.execute_reply": "2021-06-14T17:06:03.864160Z"
        },
        "trusted": true,
        "id": "DZ0U7f_ae32J",
        "outputId": "0af84882-963b-4383-bcfb-08530128a304"
      },
      "source": [
        "lm_learn.fit_one_cycle(3, lr_max=1e-2)"
      ],
      "execution_count": null,
      "outputs": [
        {
          "output_type": "display_data",
          "data": {
            "text/plain": [
              "<IPython.core.display.HTML object>"
            ],
            "text/html": [
              "<table border=\"1\" class=\"dataframe\">\n",
              "  <thead>\n",
              "    <tr style=\"text-align: left;\">\n",
              "      <th>epoch</th>\n",
              "      <th>train_loss</th>\n",
              "      <th>valid_loss</th>\n",
              "      <th>accuracy</th>\n",
              "      <th>perplexity</th>\n",
              "      <th>time</th>\n",
              "    </tr>\n",
              "  </thead>\n",
              "  <tbody>\n",
              "    <tr>\n",
              "      <td>0</td>\n",
              "      <td>4.197454</td>\n",
              "      <td>4.089710</td>\n",
              "      <td>0.275483</td>\n",
              "      <td>59.722584</td>\n",
              "      <td>07:13</td>\n",
              "    </tr>\n",
              "    <tr>\n",
              "      <td>1</td>\n",
              "      <td>4.025518</td>\n",
              "      <td>3.992507</td>\n",
              "      <td>0.284328</td>\n",
              "      <td>54.190548</td>\n",
              "      <td>07:17</td>\n",
              "    </tr>\n",
              "    <tr>\n",
              "      <td>2</td>\n",
              "      <td>3.802304</td>\n",
              "      <td>3.954117</td>\n",
              "      <td>0.288181</td>\n",
              "      <td>52.149605</td>\n",
              "      <td>07:15</td>\n",
              "    </tr>\n",
              "  </tbody>\n",
              "</table>"
            ]
          },
          "metadata": {
            "tags": []
          }
        }
      ]
    },
    {
      "cell_type": "markdown",
      "metadata": {
        "id": "5FSVsql6e32J"
      },
      "source": [
        "We save the weights in the body of the RNN and then move on to building the classifier."
      ]
    },
    {
      "cell_type": "code",
      "metadata": {
        "execution": {
          "iopub.status.busy": "2021-06-14T17:07:07.779067Z",
          "iopub.execute_input": "2021-06-14T17:07:07.779492Z",
          "iopub.status.idle": "2021-06-14T17:10:21.599733Z",
          "shell.execute_reply.started": "2021-06-14T17:07:07.779459Z",
          "shell.execute_reply": "2021-06-14T17:10:21.598418Z"
        },
        "trusted": true,
        "id": "XnwZwyS0e32K",
        "outputId": "fb04a24f-a59b-4798-f37f-99df79b645a3"
      },
      "source": [
        "lm_learn.save_encoder('lstm_finetuned')\n",
        "\n",
        "clas_dblock = DataBlock(blocks=(TextBlock.from_df('text', vocab=lm_dls.vocab), CategoryBlock),\n",
        "                        get_x=ColReader('text'), get_y=ColReader('label'),\n",
        "                        splitter=IndexSplitter(range(train_len, len(df))))\n",
        "\n",
        "clas_dls = clas_dblock.dataloaders(df, bs=32, seq_len=72, dl_type=SortedDL)\n",
        "\n",
        "clas_dls.show_batch(dls=clas_dls, max_n=5)"
      ],
      "execution_count": null,
      "outputs": [
        {
          "output_type": "display_data",
          "data": {
            "text/plain": [
              "<IPython.core.display.HTML object>"
            ],
            "text/html": [
              ""
            ]
          },
          "metadata": {
            "tags": []
          }
        },
        {
          "output_type": "display_data",
          "data": {
            "text/plain": [
              "<IPython.core.display.HTML object>"
            ],
            "text/html": [
              "<table border=\"1\" class=\"dataframe\">\n",
              "  <thead>\n",
              "    <tr style=\"text-align: right;\">\n",
              "      <th></th>\n",
              "      <th>text</th>\n",
              "      <th>category</th>\n",
              "    </tr>\n",
              "  </thead>\n",
              "  <tbody>\n",
              "    <tr>\n",
              "      <th>0</th>\n",
              "      <td>xxbos xxup not xxup the xxup best xxup one , xxup but xxup close ( plus its only 12 bucks ) . … xxup the xxup audio xxup has xxup been xxup altered . xxup this xxup is xxup not xxup ac / xxup dc xxup live , xxup its xxup ac / xxup dc xxup xxunk . xxup the xxup nice xxup part xxup is xxup that xxup it xxup sounds xxup fantastic ! ! xxup the xxup audio xxup is xxup darn xxup near xxup perfect . xxup however , xxup the xxup video xxup quality xxup is xxup vhs xxup at xxup best , xxup the xxup blacks xxup look xxup grey xxup and xxup worn . xxup what xxup else xxup would xxup you xxup expect xxup from a 1991 xxup concert ? xxup some xxup remastering xxup would xxup have xxup been xxup nice .</td>\n",
              "      <td>2</td>\n",
              "    </tr>\n",
              "    <tr>\n",
              "      <th>1</th>\n",
              "      <td>xxbos a solid debut album by an underappreciated musician . xxmaj la xxmaj toya 's self titled album is a solid effort . xxmaj with the exception of \" a xxmaj taste xxmaj of xxmaj love ( is a xxmaj taste xxmaj of xxmaj you ) \" , every other song suits xxmaj la xxmaj toya 's whispy vocals . i agree with the idea that xxmaj la xxmaj toya would have gained her most success as a xxmaj disco xxmaj diva because there were many successful female singers , both solo and in music groups or projects who had singing vocals similar to her own . xxmaj however , with the right lyrics and production to bring out the best of her voice , she can excel at both funky xxmaj dance songs and smooth xxmaj soul / xxmaj quiet xxmaj storm styled ballads . xxmaj an example of</td>\n",
              "      <td>2</td>\n",
              "    </tr>\n",
              "    <tr>\n",
              "      <th>2</th>\n",
              "      <td>xxbos xxmaj buyer xxmaj be xxmaj very xxmaj wary . xxmaj the trusted leader in children 's learning really blew it with this product . i bought xxup ss xxmaj baby deluxe , xxup ss xxmaj preschool and xxup ss xxmaj toddler for my 2 and 4 year olds . xxmaj my little girl was xxup so excited to play these games but xxmaj uh - oh . xxmaj the small print says several of the disks xxup do n't xxup work on xxmaj windows 2 xxrep 3 0 and they were developed for xxup xp before the program was released so it is shaky on xxup xp machines too . xxmaj the bottom line - we ca n't run most of the cd 's - some will install but not play . xxmaj some wo n't give the sound , some wo n't install . xxmaj very disappointing .</td>\n",
              "      <td>1</td>\n",
              "    </tr>\n",
              "    <tr>\n",
              "      <th>3</th>\n",
              "      <td>xxbos xxup jane 's xxup first xxup cd . xxup jane morgan 's xxup greatest xxup hits cd was her first ever material on cd and i had waited for it for some time . xxmaj it is a fine collection … except some one put the wrong version of \" two xxmaj different xxmaj worlds \" on the cd . i love both , but the cd liner notes mention xxup roger xxup williams ( another xxmaj xxunk artist ) on this one , but it is xxup the xxup troubadors instead . i would have traded xxmaj jane 's beautiful cover of \" kisses xxmaj sweeter xxmaj than xxmaj wine \" for \" it 's xxmaj all xxmaj in xxmaj the xxmaj game \" but it got more airplay when it was first released and is on a 45 . xxmaj the first song i ever remember hearing</td>\n",
              "      <td>2</td>\n",
              "    </tr>\n",
              "    <tr>\n",
              "      <th>4</th>\n",
              "      <td>xxbos xxmaj why must they edit it so much ? . xxmaj okay before i give my reasons for xxup not liking this i must tell i have seen the xxup whole xxmaj japanese series of xxmaj dragonball xxup z. xxmaj therefore i know what was cutout and cleaned . xxmaj number xxunk xxmaj still dislike the voices , they all sound like cheesy xxmaj warner xxmaj bros . characters xxup especially xxmaj goku . xxmaj xxunk xxunk cut out any xxunk of xxunk me there 's a lot of xxmaj goku xxup naked in the xxmaj dragonball ) xxmaj also cut out are the actual xxup hits of the fighting , xxmaj example - when the little green guy from the xxmaj xxunk force is beating xxmaj xxunk and xxmaj gohan those puffy clouds are xxup not supposed to be there ! xxunk xxunk and change everything ! xxmaj</td>\n",
              "      <td>1</td>\n",
              "    </tr>\n",
              "  </tbody>\n",
              "</table>"
            ]
          },
          "metadata": {
            "tags": []
          }
        }
      ]
    },
    {
      "cell_type": "markdown",
      "metadata": {
        "id": "XQBfyHfOe32K"
      },
      "source": [
        "We load the language model weights in our classifier and then look for the best learning rate."
      ]
    },
    {
      "cell_type": "code",
      "metadata": {
        "execution": {
          "iopub.status.busy": "2021-06-14T17:10:25.821178Z",
          "iopub.execute_input": "2021-06-14T17:10:25.821605Z",
          "iopub.status.idle": "2021-06-14T17:10:37.341638Z",
          "shell.execute_reply.started": "2021-06-14T17:10:25.821571Z",
          "shell.execute_reply": "2021-06-14T17:10:37.340373Z"
        },
        "trusted": true,
        "id": "RJs_tnNwe32K",
        "outputId": "708d297f-4e54-4996-ff41-5137c8df6f11"
      },
      "source": [
        "clas_learn = text_classifier_learner(clas_dls, AWD_LSTM, seq_len=72, metrics=accuracy)\n",
        "clas_learn.load_encoder('lstm_finetuned')\n",
        "clas_learn.freeze()\n",
        "\n",
        "clas_learn.lr_find()"
      ],
      "execution_count": null,
      "outputs": [
        {
          "output_type": "display_data",
          "data": {
            "text/plain": [
              "<IPython.core.display.HTML object>"
            ],
            "text/html": [
              ""
            ]
          },
          "metadata": {
            "tags": []
          }
        },
        {
          "output_type": "execute_result",
          "data": {
            "text/plain": [
              "SuggestedLRs(lr_min=0.012022644281387329, lr_steep=0.002511886414140463)"
            ]
          },
          "metadata": {
            "tags": []
          },
          "execution_count": 34
        },
        {
          "output_type": "display_data",
          "data": {
            "text/plain": [
              "<Figure size 432x288 with 1 Axes>"
            ],
            "image/png": "[encoded data removed]"
          },
          "metadata": {
            "tags": []
          }
        }
      ]
    },
    {
      "cell_type": "markdown",
      "metadata": {
        "id": "fMYSLlVxe32L"
      },
      "source": [
        "In order to train the classifier it is often a good choice to **gradually unfreeze** the layers of the NN, starting from training just the head (which at the moment contains random weights)."
      ]
    },
    {
      "cell_type": "code",
      "metadata": {
        "execution": {
          "iopub.status.busy": "2021-06-14T17:13:25.527057Z",
          "iopub.execute_input": "2021-06-14T17:13:25.527502Z",
          "iopub.status.idle": "2021-06-14T17:15:50.807052Z",
          "shell.execute_reply.started": "2021-06-14T17:13:25.527464Z",
          "shell.execute_reply": "2021-06-14T17:15:50.805691Z"
        },
        "trusted": true,
        "id": "vApMbaQJe32L",
        "outputId": "11efe4da-3e8b-4377-d99e-9fc90ed35efb"
      },
      "source": [
        "clas_learn.fit_one_cycle(1, lr_max=3e-3)"
      ],
      "execution_count": null,
      "outputs": [
        {
          "output_type": "display_data",
          "data": {
            "text/plain": [
              "<IPython.core.display.HTML object>"
            ],
            "text/html": [
              "<table border=\"1\" class=\"dataframe\">\n",
              "  <thead>\n",
              "    <tr style=\"text-align: left;\">\n",
              "      <th>epoch</th>\n",
              "      <th>train_loss</th>\n",
              "      <th>valid_loss</th>\n",
              "      <th>accuracy</th>\n",
              "      <th>time</th>\n",
              "    </tr>\n",
              "  </thead>\n",
              "  <tbody>\n",
              "    <tr>\n",
              "      <td>0</td>\n",
              "      <td>0.367207</td>\n",
              "      <td>0.289162</td>\n",
              "      <td>0.879881</td>\n",
              "      <td>02:25</td>\n",
              "    </tr>\n",
              "  </tbody>\n",
              "</table>"
            ]
          },
          "metadata": {
            "tags": []
          }
        }
      ]
    },
    {
      "cell_type": "code",
      "metadata": {
        "execution": {
          "iopub.status.busy": "2021-06-14T17:16:26.943772Z",
          "iopub.execute_input": "2021-06-14T17:16:26.944200Z",
          "iopub.status.idle": "2021-06-14T17:16:37.105146Z",
          "shell.execute_reply.started": "2021-06-14T17:16:26.944164Z",
          "shell.execute_reply": "2021-06-14T17:16:37.103840Z"
        },
        "trusted": true,
        "id": "jXbOZbwSe32M",
        "outputId": "3966ded2-d592-4e99-88d5-c3199be10686"
      },
      "source": [
        "clas_learn.freeze_to(-2)\n",
        "clas_learn.lr_find()"
      ],
      "execution_count": null,
      "outputs": [
        {
          "output_type": "display_data",
          "data": {
            "text/plain": [
              "<IPython.core.display.HTML object>"
            ],
            "text/html": [
              ""
            ]
          },
          "metadata": {
            "tags": []
          }
        },
        {
          "output_type": "execute_result",
          "data": {
            "text/plain": [
              "SuggestedLRs(lr_min=0.00014454397605732084, lr_steep=1.0964781722577754e-06)"
            ]
          },
          "metadata": {
            "tags": []
          },
          "execution_count": 36
        },
        {
          "output_type": "display_data",
          "data": {
            "text/plain": [
              "<Figure size 432x288 with 1 Axes>"
            ],
            "image/png": "[encoded data removed]"
          },
          "metadata": {
            "tags": []
          }
        }
      ]
    },
    {
      "cell_type": "code",
      "metadata": {
        "execution": {
          "iopub.status.busy": "2021-06-14T17:18:00.413975Z",
          "iopub.execute_input": "2021-06-14T17:18:00.414360Z",
          "iopub.status.idle": "2021-06-14T17:20:32.786238Z",
          "shell.execute_reply.started": "2021-06-14T17:18:00.414324Z",
          "shell.execute_reply": "2021-06-14T17:20:32.784933Z"
        },
        "trusted": true,
        "id": "sgTUpX2ae32M",
        "outputId": "c952902a-5ab6-4e3a-8af7-e8c183077f23"
      },
      "source": [
        "clas_learn.fit_one_cycle(1, lr_max=1e-4)"
      ],
      "execution_count": null,
      "outputs": [
        {
          "output_type": "display_data",
          "data": {
            "text/plain": [
              "<IPython.core.display.HTML object>"
            ],
            "text/html": [
              "<table border=\"1\" class=\"dataframe\">\n",
              "  <thead>\n",
              "    <tr style=\"text-align: left;\">\n",
              "      <th>epoch</th>\n",
              "      <th>train_loss</th>\n",
              "      <th>valid_loss</th>\n",
              "      <th>accuracy</th>\n",
              "      <th>time</th>\n",
              "    </tr>\n",
              "  </thead>\n",
              "  <tbody>\n",
              "    <tr>\n",
              "      <td>0</td>\n",
              "      <td>0.342016</td>\n",
              "      <td>0.263415</td>\n",
              "      <td>0.892897</td>\n",
              "      <td>02:32</td>\n",
              "    </tr>\n",
              "  </tbody>\n",
              "</table>"
            ]
          },
          "metadata": {
            "tags": []
          }
        }
      ]
    },
    {
      "cell_type": "code",
      "metadata": {
        "execution": {
          "iopub.status.busy": "2021-06-14T17:20:43.356023Z",
          "iopub.execute_input": "2021-06-14T17:20:43.356445Z",
          "iopub.status.idle": "2021-06-14T17:20:55.536676Z",
          "shell.execute_reply.started": "2021-06-14T17:20:43.356406Z",
          "shell.execute_reply": "2021-06-14T17:20:55.535548Z"
        },
        "trusted": true,
        "id": "D72H2w_qe32N",
        "outputId": "5c18aafd-6a7d-41d9-94bb-d6efca6fed52"
      },
      "source": [
        "clas_learn.freeze_to(-3)\n",
        "clas_learn.lr_find()"
      ],
      "execution_count": null,
      "outputs": [
        {
          "output_type": "display_data",
          "data": {
            "text/plain": [
              "<IPython.core.display.HTML object>"
            ],
            "text/html": [
              ""
            ]
          },
          "metadata": {
            "tags": []
          }
        },
        {
          "output_type": "execute_result",
          "data": {
            "text/plain": [
              "SuggestedLRs(lr_min=5.754399462603033e-05, lr_steep=7.585775847473997e-07)"
            ]
          },
          "metadata": {
            "tags": []
          },
          "execution_count": 38
        },
        {
          "output_type": "display_data",
          "data": {
            "text/plain": [
              "<Figure size 432x288 with 1 Axes>"
            ],
            "image/png": "[encoded data removed]"
          },
          "metadata": {
            "tags": []
          }
        }
      ]
    },
    {
      "cell_type": "code",
      "metadata": {
        "execution": {
          "iopub.status.busy": "2021-06-14T17:21:03.450695Z",
          "iopub.execute_input": "2021-06-14T17:21:03.451112Z",
          "iopub.status.idle": "2021-06-14T17:24:16.136581Z",
          "shell.execute_reply.started": "2021-06-14T17:21:03.451076Z",
          "shell.execute_reply": "2021-06-14T17:24:16.135266Z"
        },
        "trusted": true,
        "id": "WGESOMd8e32N",
        "outputId": "b475b2a0-f69a-45e0-d979-8c6154062bbe"
      },
      "source": [
        "clas_learn.fit_one_cycle(1, lr_max=3e-5)"
      ],
      "execution_count": null,
      "outputs": [
        {
          "output_type": "display_data",
          "data": {
            "text/plain": [
              "<IPython.core.display.HTML object>"
            ],
            "text/html": [
              "<table border=\"1\" class=\"dataframe\">\n",
              "  <thead>\n",
              "    <tr style=\"text-align: left;\">\n",
              "      <th>epoch</th>\n",
              "      <th>train_loss</th>\n",
              "      <th>valid_loss</th>\n",
              "      <th>accuracy</th>\n",
              "      <th>time</th>\n",
              "    </tr>\n",
              "  </thead>\n",
              "  <tbody>\n",
              "    <tr>\n",
              "      <td>0</td>\n",
              "      <td>0.295854</td>\n",
              "      <td>0.239317</td>\n",
              "      <td>0.904274</td>\n",
              "      <td>03:12</td>\n",
              "    </tr>\n",
              "  </tbody>\n",
              "</table>"
            ]
          },
          "metadata": {
            "tags": []
          }
        }
      ]
    },
    {
      "cell_type": "markdown",
      "metadata": {
        "id": "LS_JLGWLe32O"
      },
      "source": [
        "We now unfreeze all remaining layers and train for a few more epochs with discriminative learning rates (lower lr for early layers, higher lr for later ones)."
      ]
    },
    {
      "cell_type": "code",
      "metadata": {
        "execution": {
          "iopub.status.busy": "2021-06-14T17:24:18.229636Z",
          "iopub.execute_input": "2021-06-14T17:24:18.230226Z",
          "iopub.status.idle": "2021-06-14T17:24:33.679603Z",
          "shell.execute_reply.started": "2021-06-14T17:24:18.230170Z",
          "shell.execute_reply": "2021-06-14T17:24:33.678041Z"
        },
        "trusted": true,
        "id": "KDO2UPxee32O",
        "outputId": "347031d7-0f20-4cdf-a27c-e8bf087d72fb"
      },
      "source": [
        "clas_learn.unfreeze()\n",
        "clas_learn.lr_find()"
      ],
      "execution_count": null,
      "outputs": [
        {
          "output_type": "display_data",
          "data": {
            "text/plain": [
              "<IPython.core.display.HTML object>"
            ],
            "text/html": [
              ""
            ]
          },
          "metadata": {
            "tags": []
          }
        },
        {
          "output_type": "execute_result",
          "data": {
            "text/plain": [
              "SuggestedLRs(lr_min=2.7542287170945203e-07, lr_steep=9.12010818865383e-07)"
            ]
          },
          "metadata": {
            "tags": []
          },
          "execution_count": 40
        },
        {
          "output_type": "display_data",
          "data": {
            "text/plain": [
              "<Figure size 432x288 with 1 Axes>"
            ],
            "image/png": "[encoded data removed]"
          },
          "metadata": {
            "tags": []
          }
        }
      ]
    },
    {
      "cell_type": "code",
      "metadata": {
        "execution": {
          "iopub.status.busy": "2021-06-14T17:24:41.996169Z",
          "iopub.execute_input": "2021-06-14T17:24:41.996614Z",
          "iopub.status.idle": "2021-06-14T17:36:40.134556Z",
          "shell.execute_reply.started": "2021-06-14T17:24:41.996576Z",
          "shell.execute_reply": "2021-06-14T17:36:40.133400Z"
        },
        "trusted": true,
        "id": "23fkbqIje32O",
        "outputId": "34bc6e1a-5eeb-43df-8b5b-0e834eb5491d"
      },
      "source": [
        "clas_learn.fit_one_cycle(3, lr_max=slice(1e-6, 1e-4))"
      ],
      "execution_count": null,
      "outputs": [
        {
          "output_type": "display_data",
          "data": {
            "text/plain": [
              "<IPython.core.display.HTML object>"
            ],
            "text/html": [
              "<table border=\"1\" class=\"dataframe\">\n",
              "  <thead>\n",
              "    <tr style=\"text-align: left;\">\n",
              "      <th>epoch</th>\n",
              "      <th>train_loss</th>\n",
              "      <th>valid_loss</th>\n",
              "      <th>accuracy</th>\n",
              "      <th>time</th>\n",
              "    </tr>\n",
              "  </thead>\n",
              "  <tbody>\n",
              "    <tr>\n",
              "      <td>0</td>\n",
              "      <td>0.304444</td>\n",
              "      <td>0.227567</td>\n",
              "      <td>0.910628</td>\n",
              "      <td>04:00</td>\n",
              "    </tr>\n",
              "    <tr>\n",
              "      <td>1</td>\n",
              "      <td>0.285433</td>\n",
              "      <td>0.222628</td>\n",
              "      <td>0.912473</td>\n",
              "      <td>03:59</td>\n",
              "    </tr>\n",
              "    <tr>\n",
              "      <td>2</td>\n",
              "      <td>0.260865</td>\n",
              "      <td>0.218463</td>\n",
              "      <td>0.913191</td>\n",
              "      <td>03:58</td>\n",
              "    </tr>\n",
              "  </tbody>\n",
              "</table>"
            ]
          },
          "metadata": {
            "tags": []
          }
        }
      ]
    },
    {
      "cell_type": "code",
      "metadata": {
        "execution": {
          "iopub.status.busy": "2021-06-14T17:36:53.409850Z",
          "iopub.execute_input": "2021-06-14T17:36:53.410433Z",
          "iopub.status.idle": "2021-06-14T17:37:19.024123Z",
          "shell.execute_reply.started": "2021-06-14T17:36:53.410358Z",
          "shell.execute_reply": "2021-06-14T17:37:19.022981Z"
        },
        "trusted": true,
        "id": "aTBBAKwne32P",
        "outputId": "b689a464-db8b-4998-8552-3023869a1b2c"
      },
      "source": [
        "interp = ClassificationInterpretation.from_learner(clas_learn)\n",
        "\n",
        "interp.print_classification_report()\n",
        "interp.plot_confusion_matrix()"
      ],
      "execution_count": null,
      "outputs": [
        {
          "output_type": "display_data",
          "data": {
            "text/plain": [
              "<IPython.core.display.HTML object>"
            ],
            "text/html": [
              ""
            ]
          },
          "metadata": {
            "tags": []
          }
        },
        {
          "output_type": "stream",
          "text": [
            "              precision    recall  f1-score   support\n",
            "\n",
            "           1       0.92      0.90      0.91      4783\n",
            "           2       0.91      0.92      0.92      4974\n",
            "\n",
            "    accuracy                           0.91      9757\n",
            "   macro avg       0.91      0.91      0.91      9757\n",
            "weighted avg       0.91      0.91      0.91      9757\n",
            "\n"
          ],
          "name": "stdout"
        },
        {
          "output_type": "display_data",
          "data": {
            "text/plain": [
              "<Figure size 432x288 with 1 Axes>"
            ],
            "image/png": "[encoded data removed]"
          },
          "metadata": {
            "tags": []
          }
        }
      ]
    },
    {
      "cell_type": "markdown",
      "metadata": {
        "id": "z8hS7ke9e32P"
      },
      "source": [
        "The LSTM model has reached an accuracy of 91.3%, significantly higher than the baseline obtained by using text features and with much more homogeneous precision and recall for the two classes. It is worth observing that the validation dataset contains wrongly labeled samples, as we can see by analyzing the top losses."
      ]
    },
    {
      "cell_type": "code",
      "metadata": {
        "execution": {
          "iopub.status.busy": "2021-06-14T17:38:59.633259Z",
          "iopub.execute_input": "2021-06-14T17:38:59.633656Z",
          "iopub.status.idle": "2021-06-14T17:38:59.716614Z",
          "shell.execute_reply.started": "2021-06-14T17:38:59.633611Z",
          "shell.execute_reply": "2021-06-14T17:38:59.715017Z"
        },
        "trusted": true,
        "id": "-QZoLTTbe32Q",
        "outputId": "56a9611f-9873-4ba3-ff76-117659dc3844"
      },
      "source": [
        "interp.plot_top_losses(k=8)"
      ],
      "execution_count": null,
      "outputs": [
        {
          "output_type": "display_data",
          "data": {
            "text/plain": [
              "<IPython.core.display.HTML object>"
            ],
            "text/html": [
              "<table border=\"1\" class=\"dataframe\">\n",
              "  <thead>\n",
              "    <tr style=\"text-align: right;\">\n",
              "      <th></th>\n",
              "      <th>input</th>\n",
              "      <th>target</th>\n",
              "      <th>predicted</th>\n",
              "      <th>probability</th>\n",
              "      <th>loss</th>\n",
              "    </tr>\n",
              "  </thead>\n",
              "  <tbody>\n",
              "    <tr>\n",
              "      <th>0</th>\n",
              "      <td>xxbos xxmaj sensational . xxmaj this book is a riveting tale of suspense and adventure . xxmaj the ending made me cry . xxmaj beautiful !</td>\n",
              "      <td>1</td>\n",
              "      <td>2</td>\n",
              "      <td>0.999930739402771</td>\n",
              "      <td>9.577396392822266</td>\n",
              "    </tr>\n",
              "    <tr>\n",
              "      <th>1</th>\n",
              "      <td>xxbos xxmaj excellent . xxmaj this is a great book . xxmaj martha xxmaj beck is a wonderful writer with clear insight . a must read for anyone seeking their true path in life .</td>\n",
              "      <td>1</td>\n",
              "      <td>2</td>\n",
              "      <td>0.9998100399971008</td>\n",
              "      <td>8.568708419799805</td>\n",
              "    </tr>\n",
              "    <tr>\n",
              "      <th>2</th>\n",
              "      <td>xxbos outstanding . xxmaj five stars ! . xxmaj excellent instructions for applique with pictures to demonstrate their words . xxmaj basic applique primer . xxmaj your resource book .</td>\n",
              "      <td>1</td>\n",
              "      <td>2</td>\n",
              "      <td>0.9991171956062317</td>\n",
              "      <td>7.032437324523926</td>\n",
              "    </tr>\n",
              "    <tr>\n",
              "      <th>3</th>\n",
              "      <td>xxbos typos galore ! . i do not intend to review content here . xxmaj this new edition is so full of typographical errors that sometimes the reader will have to intuit what the author really wrote . xxmaj it is clear that the proofreaders of this edition were not actually reading ; they were simply following the little red lines under the \" misspelled \" words . xxmaj this has resulted in some truly bizarre apparent statements by the author , xxunk here due to copyright laws . xxmaj xxunk i have not purchased this book , merely checked it out of the library .</td>\n",
              "      <td>2</td>\n",
              "      <td>1</td>\n",
              "      <td>0.9991135001182556</td>\n",
              "      <td>7.0282087326049805</td>\n",
              "    </tr>\n",
              "    <tr>\n",
              "      <th>4</th>\n",
              "      <td>xxbos xxmaj great easy to use . xxmaj have nt used yet but plan on soon it looks easy to use and i will soon but just have nt yet</td>\n",
              "      <td>1</td>\n",
              "      <td>2</td>\n",
              "      <td>0.9990056157112122</td>\n",
              "      <td>6.913374900817871</td>\n",
              "    </tr>\n",
              "    <tr>\n",
              "      <th>5</th>\n",
              "      <td>xxbos xxmaj excellent ! . xxmaj this is one of the best books xxmaj i 've read on the subject . xxmaj everyone who is involved in any type of business research or competitor research can benefit from this book . xxmaj it even includes detailed descriptions of some of the best business information resources available , on- and offline .</td>\n",
              "      <td>1</td>\n",
              "      <td>2</td>\n",
              "      <td>0.9989963173866272</td>\n",
              "      <td>6.90410041809082</td>\n",
              "    </tr>\n",
              "    <tr>\n",
              "      <th>6</th>\n",
              "      <td>xxbos xxmaj interesting . xxmaj this book was a nice fast read . xxmaj not sure if i would recommend to my friends or not but it was interesting .</td>\n",
              "      <td>1</td>\n",
              "      <td>2</td>\n",
              "      <td>0.9973673224449158</td>\n",
              "      <td>5.939754486083984</td>\n",
              "    </tr>\n",
              "    <tr>\n",
              "      <th>7</th>\n",
              "      <td>xxbos xxmaj good xxmaj ones . i bought these for my kids toys , been using these for almost 2 months now.i am happy with the product .</td>\n",
              "      <td>1</td>\n",
              "      <td>2</td>\n",
              "      <td>0.9959398508071899</td>\n",
              "      <td>5.5065178871154785</td>\n",
              "    </tr>\n",
              "  </tbody>\n",
              "</table>"
            ]
          },
          "metadata": {
            "tags": []
          }
        }
      ]
    },
    {
      "cell_type": "markdown",
      "metadata": {
        "id": "IlxsbtQLe32Q"
      },
      "source": [
        "### 3.2 RoBERTa <a id=3.2></a>\n",
        "\n",
        "Let's see whether a transformer NN can further improve results. We use [RoBERTa](https://arxiv.org/abs/1907.11692), based on BERT architecture; I highly recommend the [blurr library](https://github.com/ohmeow/blurr) to integrate huggingface Transformers with fastai."
      ]
    },
    {
      "cell_type": "code",
      "metadata": {
        "execution": {
          "iopub.status.busy": "2021-06-14T17:39:08.243869Z",
          "iopub.execute_input": "2021-06-14T17:39:08.244263Z",
          "iopub.status.idle": "2021-06-14T17:39:45.527596Z",
          "shell.execute_reply.started": "2021-06-14T17:39:08.244229Z",
          "shell.execute_reply": "2021-06-14T17:39:45.526322Z"
        },
        "trusted": true,
        "colab": {
          "referenced_widgets": [
            "cce09805d3ad4686bc7d2ac729469471",
            "1b132fe89c714467a68868e0c4c8694c",
            "91f9cadc9b2842939fe1735c171424cb",
            "b9b89ce8665b452eb1c56de868569083",
            "2b8c01ef3279452a9b3264cc5c5193ef"
          ]
        },
        "id": "oOgsjxbCe32Q",
        "outputId": "484cb0c4-5b7b-4bb2-f1c8-37d016b6b6ab"
      },
      "source": [
        "from transformers import AutoModelForMaskedLM, AutoModelForSequenceClassification\n",
        "from blurr.data.all import *\n",
        "from blurr.modeling.all import *\n",
        "\n",
        "pretrained_model_name = \"roberta-base\"\n",
        "model_cls = AutoModelForSequenceClassification\n",
        "hf_arch, hf_config, hf_tokenizer, hf_model = BLURR.get_hf_objects(pretrained_model_name, model_cls=model_cls)"
      ],
      "execution_count": null,
      "outputs": [
        {
          "output_type": "display_data",
          "data": {
            "text/plain": [
              "HBox(children=(FloatProgress(value=0.0, description='Downloading', max=481.0, style=ProgressStyle(description_…"
            ],
            "application/vnd.jupyter.widget-view+json": {
              "version_major": 2,
              "version_minor": 0,
              "model_id": "cce09805d3ad4686bc7d2ac729469471"
            }
          },
          "metadata": {
            "tags": []
          }
        },
        {
          "output_type": "stream",
          "text": [
            "\n"
          ],
          "name": "stdout"
        },
        {
          "output_type": "display_data",
          "data": {
            "text/plain": [
              "HBox(children=(FloatProgress(value=0.0, description='Downloading', max=898823.0, style=ProgressStyle(descripti…"
            ],
            "application/vnd.jupyter.widget-view+json": {
              "version_major": 2,
              "version_minor": 0,
              "model_id": "1b132fe89c714467a68868e0c4c8694c"
            }
          },
          "metadata": {
            "tags": []
          }
        },
        {
          "output_type": "stream",
          "text": [
            "\n"
          ],
          "name": "stdout"
        },
        {
          "output_type": "display_data",
          "data": {
            "text/plain": [
              "HBox(children=(FloatProgress(value=0.0, description='Downloading', max=456318.0, style=ProgressStyle(descripti…"
            ],
            "application/vnd.jupyter.widget-view+json": {
              "version_major": 2,
              "version_minor": 0,
              "model_id": "91f9cadc9b2842939fe1735c171424cb"
            }
          },
          "metadata": {
            "tags": []
          }
        },
        {
          "output_type": "stream",
          "text": [
            "\n"
          ],
          "name": "stdout"
        },
        {
          "output_type": "display_data",
          "data": {
            "text/plain": [
              "HBox(children=(FloatProgress(value=0.0, description='Downloading', max=1355863.0, style=ProgressStyle(descript…"
            ],
            "application/vnd.jupyter.widget-view+json": {
              "version_major": 2,
              "version_minor": 0,
              "model_id": "b9b89ce8665b452eb1c56de868569083"
            }
          },
          "metadata": {
            "tags": []
          }
        },
        {
          "output_type": "stream",
          "text": [
            "\n"
          ],
          "name": "stdout"
        },
        {
          "output_type": "display_data",
          "data": {
            "text/plain": [
              "HBox(children=(FloatProgress(value=0.0, description='Downloading', max=501200538.0, style=ProgressStyle(descri…"
            ],
            "application/vnd.jupyter.widget-view+json": {
              "version_major": 2,
              "version_minor": 0,
              "model_id": "2b8c01ef3279452a9b3264cc5c5193ef"
            }
          },
          "metadata": {
            "tags": []
          }
        },
        {
          "output_type": "stream",
          "text": [
            "\n"
          ],
          "name": "stdout"
        }
      ]
    },
    {
      "cell_type": "code",
      "metadata": {
        "execution": {
          "iopub.status.busy": "2021-06-14T17:39:47.487980Z",
          "iopub.execute_input": "2021-06-14T17:39:47.488376Z",
          "iopub.status.idle": "2021-06-14T17:40:53.915447Z",
          "shell.execute_reply.started": "2021-06-14T17:39:47.488341Z",
          "shell.execute_reply": "2021-06-14T17:40:53.914303Z"
        },
        "trusted": true,
        "id": "Kp42Q6aZe32W",
        "outputId": "07b24a1c-f77c-4323-b098-b2bcea4069ee"
      },
      "source": [
        "dblock = DataBlock(blocks=(HF_TextBlock(hf_arch, hf_config, hf_tokenizer, hf_model), CategoryBlock), \n",
        "                   get_x=ColReader('text'), get_y=ColReader('label'),\n",
        "                   splitter=IndexSplitter(range(train_len, len(df))))\n",
        "\n",
        "dls = dblock.dataloaders(df, bs=4, dl_type=SortedDL)\n",
        "\n",
        "dls.show_batch(dataloaders=dls)"
      ],
      "execution_count": null,
      "outputs": [
        {
          "output_type": "display_data",
          "data": {
            "text/plain": [
              "<IPython.core.display.HTML object>"
            ],
            "text/html": [
              "<table border=\"1\" class=\"dataframe\">\n",
              "  <thead>\n",
              "    <tr style=\"text-align: right;\">\n",
              "      <th></th>\n",
              "      <th>text</th>\n",
              "      <th>category</th>\n",
              "    </tr>\n",
              "  </thead>\n",
              "  <tbody>\n",
              "    <tr>\n",
              "      <th>0</th>\n",
              "      <td>A Strange Read. The Law and the Poor is an odd book. It enumerates some of the ways by which the British legal system into the 1920s either excluded or oppressed the poorer clases. Parry dwells at tedious length with the debacle that was debtors' prison, but has no solution but a belief that time will somehow mediate not only the problem of debtors' prison but all other legal inequities.What Parry expressed (repeatedly) could have been thoroughly covered in about 10 pages. Alas, his book was far longer than that.Only Parry's ability to cite from just about any text written after 1789 makes this book tolerable. I admittedly was amused at the succession of characters Parry inserted into his book. Unfortunately, if you are not extremely well-versed in Victorian history and literature, you'll miss much: Parry draws on the very obscure as often as he does on the famous. For me it was a hoot only because Victorian history is my field.The Kindle download is free; don't waste your money purchasing this book.</td>\n",
              "      <td>1</td>\n",
              "    </tr>\n",
              "    <tr>\n",
              "      <th>1</th>\n",
              "      <td>So far so good. I purchased the RV042 specifically for failover between my cable modem and adsl line. Up until this point I'd been doing a manual failover. Also, I'd been hesitant to run a consumer router, instead always running a linux box for home routing/firewall needs.Out of the box it was very easy to setup the basics, emulate everything my linux box was doing at the time (incoming forwards, etc.), and within 1/2 hour was up-and-running. No complaints except I was unable to perform a firmware upgrade via a browser unless I fired up a VM and did it with Internet Explorer. Similar to my complaint with all Linksys products, they really need to stop developing for IE/Active crap and focus on actual web-standards - especially now with folks moving away entirely from Windows overall.Performance hasn't seemed to take a hit, and soon I'll setup the VPN and SNMP features so I can get some logging going. That's another complaint, no easy way to log or setup via a CLI - unless I missed something.</td>\n",
              "      <td>2</td>\n",
              "    </tr>\n",
              "    <tr>\n",
              "      <th>2</th>\n",
              "      <td>Wizards First Rule = Fantasy flop!!!. Wizards First Rule (Book 1 of Terry Goodkinds 'Sword of Truth' series) is a classic example of yet another redundant fantasy \"epic\". One-dimensional and uninspired characters populate an unimaginative and cliched fantasy setting, and on top of it all Goodkind writes with the stylistic flair of a 3rd grader. Seriously, the writing is ridiciously poor. I am a HUGE fantasy and sci-fi fan, and after hearing rave reviews I picked this novel up. Somehow I managed to slog my way through the entire book, which incidentally is about 500 pages too long, and as far as I can tell it has very little positive elements at all. Prepubescent teens looking for gratuitous violence, and cliched characters will be extremely pleased with this book. Other readers looking for something more imaginative, entertaining, and intellectual than this piece of literary [junk], would do well to check out George R.R Martin's \"A Game of Thrones\", or anything by Guy Gavriel Kay.</td>\n",
              "      <td>1</td>\n",
              "    </tr>\n",
              "    <tr>\n",
              "      <th>3</th>\n",
              "      <td>Fun for serious football fans/gamers. I have owned a lot of soccer games and to be brief:This game is a pleasure to play if you are a serious footie gamer.The new manager mode is a great and it really keeps you playing the game for a longer period of time. As far as goals are concerned, the defense is much harder this year and while on the easiest level you can blast the ball by keepers from 20 yards out, its much harder on the top skill levels. I think its very realistic because in the actual game of football, i think you see more goals as a result of headers, fastbreaks, and defensive break downs that let a player get behind the opposition and up close to the goal within the 8 yard box more than you will see 20-25 yard screamers. This game shows that as the goalies are not soo easily fooled at long range when you get into the two higher skill levels.If you want a challenge with managing contracts and funds while competing for signings and cups, then pick this game up.</td>\n",
              "      <td>2</td>\n",
              "    </tr>\n",
              "  </tbody>\n",
              "</table>"
            ]
          },
          "metadata": {
            "tags": []
          }
        }
      ]
    },
    {
      "cell_type": "code",
      "metadata": {
        "execution": {
          "iopub.status.busy": "2021-06-14T17:41:03.110992Z",
          "iopub.execute_input": "2021-06-14T17:41:03.111398Z",
          "iopub.status.idle": "2021-06-14T17:41:12.530201Z",
          "shell.execute_reply.started": "2021-06-14T17:41:03.111363Z",
          "shell.execute_reply": "2021-06-14T17:41:12.528808Z"
        },
        "trusted": true,
        "id": "Z-tKGjB1e32X",
        "outputId": "f14f30e6-5dbc-4176-d32f-4c360cdcc454"
      },
      "source": [
        "roberta_model = HF_BaseModelWrapper(hf_model)\n",
        "\n",
        "roberta_learn = Learner(dls, \n",
        "                roberta_model,\n",
        "                opt_func=partial(Adam, decouple_wd=True),\n",
        "                loss_func=CrossEntropyLossFlat(),\n",
        "                metrics=accuracy,\n",
        "                cbs=[HF_BaseModelCallback],\n",
        "                splitter=hf_splitter)\n",
        "\n",
        "roberta_learn.freeze()\n",
        "\n",
        "roberta_learn.lr_find()"
      ],
      "execution_count": null,
      "outputs": [
        {
          "output_type": "display_data",
          "data": {
            "text/plain": [
              "<IPython.core.display.HTML object>"
            ],
            "text/html": [
              ""
            ]
          },
          "metadata": {
            "tags": []
          }
        },
        {
          "output_type": "execute_result",
          "data": {
            "text/plain": [
              "SuggestedLRs(lr_min=3.981071640737355e-05, lr_steep=0.02290867641568184)"
            ]
          },
          "metadata": {
            "tags": []
          },
          "execution_count": 46
        },
        {
          "output_type": "display_data",
          "data": {
            "text/plain": [
              "<Figure size 432x288 with 1 Axes>"
            ],
            "image/png": "[encoded data removed]"
          },
          "metadata": {
            "tags": []
          }
        }
      ]
    },
    {
      "cell_type": "code",
      "metadata": {
        "execution": {
          "iopub.status.busy": "2021-06-14T17:41:20.711065Z",
          "iopub.execute_input": "2021-06-14T17:41:20.711465Z",
          "iopub.status.idle": "2021-06-14T17:56:59.750578Z",
          "shell.execute_reply.started": "2021-06-14T17:41:20.711425Z",
          "shell.execute_reply": "2021-06-14T17:56:59.749354Z"
        },
        "trusted": true,
        "id": "kiDkfkt-e32X",
        "outputId": "d4018c3d-a136-478b-ec5a-8aa7803ebf2b"
      },
      "source": [
        "roberta_learn.fit_one_cycle(1, lr_max=3e-4)"
      ],
      "execution_count": null,
      "outputs": [
        {
          "output_type": "display_data",
          "data": {
            "text/plain": [
              "<IPython.core.display.HTML object>"
            ],
            "text/html": [
              "<table border=\"1\" class=\"dataframe\">\n",
              "  <thead>\n",
              "    <tr style=\"text-align: left;\">\n",
              "      <th>epoch</th>\n",
              "      <th>train_loss</th>\n",
              "      <th>valid_loss</th>\n",
              "      <th>accuracy</th>\n",
              "      <th>time</th>\n",
              "    </tr>\n",
              "  </thead>\n",
              "  <tbody>\n",
              "    <tr>\n",
              "      <td>0</td>\n",
              "      <td>0.112342</td>\n",
              "      <td>0.112040</td>\n",
              "      <td>0.960951</td>\n",
              "      <td>15:39</td>\n",
              "    </tr>\n",
              "  </tbody>\n",
              "</table>"
            ]
          },
          "metadata": {
            "tags": []
          }
        }
      ]
    },
    {
      "cell_type": "code",
      "metadata": {
        "execution": {
          "iopub.status.busy": "2021-06-14T17:59:01.564444Z",
          "iopub.execute_input": "2021-06-14T17:59:01.564943Z",
          "iopub.status.idle": "2021-06-14T17:59:12.082179Z",
          "shell.execute_reply.started": "2021-06-14T17:59:01.564893Z",
          "shell.execute_reply": "2021-06-14T17:59:12.081152Z"
        },
        "trusted": true,
        "id": "h17C9TF1e32Y",
        "outputId": "2f83e8da-7891-42ff-87bf-0d18ff75f0fc"
      },
      "source": [
        "roberta_learn.freeze_to(-2)\n",
        "roberta_learn.lr_find()"
      ],
      "execution_count": null,
      "outputs": [
        {
          "output_type": "display_data",
          "data": {
            "text/plain": [
              "<IPython.core.display.HTML object>"
            ],
            "text/html": [
              ""
            ]
          },
          "metadata": {
            "tags": []
          }
        },
        {
          "output_type": "execute_result",
          "data": {
            "text/plain": [
              "SuggestedLRs(lr_min=1.9054607491852948e-07, lr_steep=9.12010818865383e-07)"
            ]
          },
          "metadata": {
            "tags": []
          },
          "execution_count": 48
        },
        {
          "output_type": "display_data",
          "data": {
            "text/plain": [
              "<Figure size 432x288 with 1 Axes>"
            ],
            "image/png": "[encoded data removed]"
          },
          "metadata": {
            "tags": []
          }
        }
      ]
    },
    {
      "cell_type": "code",
      "metadata": {
        "execution": {
          "iopub.status.busy": "2021-06-14T18:08:02.875305Z",
          "iopub.execute_input": "2021-06-14T18:08:02.875751Z",
          "iopub.status.idle": "2021-06-14T18:32:43.241414Z",
          "shell.execute_reply.started": "2021-06-14T18:08:02.875713Z",
          "shell.execute_reply": "2021-06-14T18:32:43.240093Z"
        },
        "trusted": true,
        "id": "YEodMvVWe32Y",
        "outputId": "6475ad84-bc6f-46dd-97ee-dca3d95c9d77"
      },
      "source": [
        "roberta_learn.fit_one_cycle(1, lr_max=3e-6)"
      ],
      "execution_count": null,
      "outputs": [
        {
          "output_type": "display_data",
          "data": {
            "text/plain": [
              "<IPython.core.display.HTML object>"
            ],
            "text/html": [
              "<table border=\"1\" class=\"dataframe\">\n",
              "  <thead>\n",
              "    <tr style=\"text-align: left;\">\n",
              "      <th>epoch</th>\n",
              "      <th>train_loss</th>\n",
              "      <th>valid_loss</th>\n",
              "      <th>accuracy</th>\n",
              "      <th>time</th>\n",
              "    </tr>\n",
              "  </thead>\n",
              "  <tbody>\n",
              "    <tr>\n",
              "      <td>0</td>\n",
              "      <td>0.123497</td>\n",
              "      <td>0.103549</td>\n",
              "      <td>0.963411</td>\n",
              "      <td>24:40</td>\n",
              "    </tr>\n",
              "  </tbody>\n",
              "</table>"
            ]
          },
          "metadata": {
            "tags": []
          }
        }
      ]
    },
    {
      "cell_type": "code",
      "metadata": {
        "execution": {
          "iopub.status.busy": "2021-06-14T18:33:22.324541Z",
          "iopub.execute_input": "2021-06-14T18:33:22.325000Z",
          "iopub.status.idle": "2021-06-14T19:24:25.047028Z",
          "shell.execute_reply.started": "2021-06-14T18:33:22.324956Z",
          "shell.execute_reply": "2021-06-14T19:24:25.045825Z"
        },
        "trusted": true,
        "id": "zQ3Iv8eFe32Z",
        "outputId": "6a69846f-faf0-4b2d-a629-06700ee5f833"
      },
      "source": [
        "roberta_learn.unfreeze()\n",
        "roberta_learn.fit_one_cycle(2, lr_max=slice(1e-7, 1e-5))"
      ],
      "execution_count": null,
      "outputs": [
        {
          "output_type": "display_data",
          "data": {
            "text/plain": [
              "<IPython.core.display.HTML object>"
            ],
            "text/html": [
              "<table border=\"1\" class=\"dataframe\">\n",
              "  <thead>\n",
              "    <tr style=\"text-align: left;\">\n",
              "      <th>epoch</th>\n",
              "      <th>train_loss</th>\n",
              "      <th>valid_loss</th>\n",
              "      <th>accuracy</th>\n",
              "      <th>time</th>\n",
              "    </tr>\n",
              "  </thead>\n",
              "  <tbody>\n",
              "    <tr>\n",
              "      <td>0</td>\n",
              "      <td>0.091502</td>\n",
              "      <td>0.105302</td>\n",
              "      <td>0.965563</td>\n",
              "      <td>25:18</td>\n",
              "    </tr>\n",
              "    <tr>\n",
              "      <td>1</td>\n",
              "      <td>0.043176</td>\n",
              "      <td>0.107486</td>\n",
              "      <td>0.964333</td>\n",
              "      <td>25:44</td>\n",
              "    </tr>\n",
              "  </tbody>\n",
              "</table>"
            ]
          },
          "metadata": {
            "tags": []
          }
        }
      ]
    },
    {
      "cell_type": "code",
      "metadata": {
        "execution": {
          "iopub.status.busy": "2021-06-14T19:32:02.804133Z",
          "iopub.execute_input": "2021-06-14T19:32:02.804581Z",
          "iopub.status.idle": "2021-06-14T19:33:13.875494Z",
          "shell.execute_reply.started": "2021-06-14T19:32:02.804530Z",
          "shell.execute_reply": "2021-06-14T19:33:13.874266Z"
        },
        "trusted": true,
        "id": "EJ95Bzice32Z",
        "outputId": "0a8f69fb-3c07-4c0f-811f-d1aefe3a2098"
      },
      "source": [
        "preds = roberta_learn.blurr_predict(dls.valid.items)\n",
        "\n",
        "pred_proc = np.array([int(dls.categorize.decode(a)) for i in list(zip(*preds))[1] for a in i])\n",
        "\n",
        "true_y = dls.valid.items['label'].values\n",
        "\n",
        "print(classification_report(true_y, pred_proc))"
      ],
      "execution_count": null,
      "outputs": [
        {
          "output_type": "stream",
          "text": [
            "              precision    recall  f1-score   support\n",
            "\n",
            "           1       0.97      0.96      0.96      4783\n",
            "           2       0.96      0.97      0.97      4974\n",
            "\n",
            "    accuracy                           0.96      9757\n",
            "   macro avg       0.96      0.96      0.96      9757\n",
            "weighted avg       0.96      0.96      0.96      9757\n",
            "\n"
          ],
          "name": "stdout"
        }
      ]
    },
    {
      "cell_type": "markdown",
      "metadata": {
        "id": "cCwaPILYe32a"
      },
      "source": [
        "Finetuning a pretrained transformer architecture leads to an accuracy of **96.5%**, much better than what we achieved with a LSTM RNN. "
      ]
    }
  ]
}